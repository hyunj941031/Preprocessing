{
  "nbformat": 4,
  "nbformat_minor": 0,
  "metadata": {
    "colab": {
      "name": "ai-sc12x.ipynb",
      "provenance": [],
      "collapsed_sections": [],
      "include_colab_link": true
    },
    "kernelspec": {
      "name": "python3",
      "display_name": "Python 3"
    },
    "language_info": {
      "name": "python"
    }
  },
  "cells": [
    {
      "cell_type": "markdown",
      "metadata": {
        "id": "view-in-github",
        "colab_type": "text"
      },
      "source": [
        "<a href=\"https://colab.research.google.com/github/hyunj941031/Preprocessing/blob/main/ai-sc12x-%EC%A0%95%ED%98%84%EC%A4%80.ipynb\" target=\"_parent\"><img src=\"https://colab.research.google.com/assets/colab-badge.svg\" alt=\"Open In Colab\"/></a>"
      ]
    },
    {
      "cell_type": "markdown",
      "source": [
        "<img src='https://i.imgur.com/RDAD11M.png' width = '200' align = 'right'>\n",
        "\n",
        "# **SC12x**\n",
        "\n",
        "# **Statistics**"
      ],
      "metadata": {
        "id": "Lh5QGrdw-mKP"
      }
    },
    {
      "cell_type": "markdown",
      "source": [
        "## **Part 1. Bayes Theorem**\n",
        "\n",
        "Bayes Thoerem은 사전확률에서 정보가 업데이트됨에 따라 사후확률이 어떻게 변화하는지를 나타냅니다. \n",
        "\n",
        "다음의 문제에 대해 Bayes Thoerem을 활용하여 사후확률을 구해보세요.\n",
        "\n",
        "> 여러분은 가게에서 2개의 사탕팩(A, B)을 구매하였습니다. A팩에는 7개의 딸기맛, 3개의 사과맛 사탕이 들어있고, B팩에는 5개의 딸기맛, 5개의 사과맛 사탕이 들어있었습니다. 해당 사탕들을 모두 섞은 후 1개를 뽑았더니 딸기맛이었을 때, 해당 사탕이 A팩에 있었던 사탕이었을 확률은 얼마일까요?\n",
        "\n",
        "\n",
        "\n"
      ],
      "metadata": {
        "id": "r7D6lw5IUwc2"
      }
    },
    {
      "cell_type": "markdown",
      "source": [
        "##### **Q1. 사후확률을 반올림하여 소수점 둘째 자리까지 구한 후, 사전확률과 사후확률 결과를 (사전확률, 사후확률)의 형태로 쓰세요.**"
      ],
      "metadata": {
        "id": "r0MUSUO6A2kj"
      }
    },
    {
      "cell_type": "code",
      "source": [
        "# 이곳에 코드를 작성하세요.\n",
        "A = 0.5\n",
        "a = 0.7\n",
        "# A * a = 0.35\n",
        "B = 0.5\n",
        "b = 0.5\n",
        "# B * b = 0.25\n",
        "\n",
        "(0.5, round(A*a / (A*a + B*b), 2))"
      ],
      "metadata": {
        "id": "TJV8v1dRZjVd",
        "colab": {
          "base_uri": "https://localhost:8080/"
        },
        "outputId": "c3b49db3-94ed-4791-f8f5-f57bfe4b1f47"
      },
      "execution_count": 5,
      "outputs": [
        {
          "output_type": "execute_result",
          "data": {
            "text/plain": [
              "(0.5, 0.58)"
            ]
          },
          "metadata": {},
          "execution_count": 5
        }
      ]
    },
    {
      "cell_type": "markdown",
      "source": [
        "---"
      ],
      "metadata": {
        "id": "uxyyD7S2BG3S"
      }
    },
    {
      "cell_type": "markdown",
      "source": [
        "## **Part 2. Bootstrapping**\n",
        "\n",
        "> **Part 2, Part 3에서 여러분은 가상의 마케팅 데이터를 활용할 것입니다.**"
      ],
      "metadata": {
        "id": "RD-eh22GVjx7"
      }
    },
    {
      "cell_type": "markdown",
      "source": [
        "#### 데이터셋 정보 :   \n",
        "이 데이터셋은 알뜰 구매를 도와주는 XYZ사의 마케팅 정보를 다루고 있으며, 개인 정보는 보호를 위해 제거 되어 있습니다.\n",
        "\n",
        "**Attribute Information:**\n",
        "\n",
        "- ID - 고객의 고유값\n",
        "- Year_Birth - 고객의 출생연도\n",
        "- Education - 고객의 최종학력\n",
        "- Marital_Status - 고객의 혼인여부\n",
        "- Country - 고객의 국적\n",
        "- Income - 고객의 연간 수입\n",
        "- Kidhome - 자녀가 미취학아동인지 여부 (1 - yes, 0 - no)\n",
        "- Teenhome - 자녀가 10대 청소년인지 여부 (1 - yes, 0 - no)\n",
        "- Dt_Customer - 서비스 가입 시기\n",
        "- Recency - 마지막 구매 시기 (일)\n",
        "- MntWines - 최근 2년간 구매한 와인 구매 총액\n",
        "- MntFruits- 최근 2년간 구매한 과일 구매 총액\n",
        "- MntMeatProducts - 최근 2년간 구매한 정육 구매 총액\n",
        "- MntFishProducts - 최근 2년간 구매한 어류 구매 총액\n",
        "- MntSweetProducts - 최근 2년간 구매한 과자 구매 총액\n",
        "- MntGoldProds - 최근 2년간 구매한 황금 구매 총액\n",
        "- NumDealsPurchases - 할인을 통해 제품을 구매한 횟수\n",
        "- NumWebPurchases - 회사의 웹사이트를 통해 구매한 횟수\n",
        "- NumStorePurchases - 가게에서 직접 구매한 횟수\n",
        "- NumWebVisitsMonth - 회사의 웹사이트를 방문한 횟수\n",
        "- Complain - 고객의 최근 2년간 회사에 대한 클레임 여부 (1 - yes, 0 - no)"
      ],
      "metadata": {
        "id": "64C3XkoL-lZB"
      }
    },
    {
      "cell_type": "markdown",
      "source": [
        "### **2-1. 데이터셋 살펴보기**\n",
        "\n",
        "- 데이터셋을 데이터프레임 형태로 불러오세요.\n",
        "- `Income` column 이름 앞뒤의 공백을 제거하세요.\n",
        "- 데이터셋의 결측치를 살펴보고, 있다면 제거하고 인덱스를 재설정하세요.\n",
        "- `Income`의 데이터타입을 `int`로 변경하세요.\n",
        "  - 필요시 다음의 코드를 활용해보세요.\n",
        "  \n",
        "\n",
        "  ```python\n",
        "  import re\n",
        "\n",
        "  def cleaning(df):\n",
        "    li = []\n",
        "    for row in df['Income']:\n",
        "      splited = row.split('.') # .을 기준으로 문자열을 분리합니다.\n",
        "      result = re.sub('[^0-9]','', splited[0]) # .기준 앞 부분만 활용하여 숫자가 아닌 문자는 공백으로 치환합니다.\n",
        "      li.append(int(result))\n",
        "  \n",
        "    df['Income'] = li\n",
        "  ```\n",
        "\n",
        "- `Income`의 이상치를 제거하세요.\n",
        "  - 다음의 코드를 통해 `Income`의 분포를 비교해보세요.\n",
        "\n",
        "  ```python\n",
        "  plt.hist(df['Income']);\n",
        "\n",
        "  plt.hist(df.loc[df['Income'] < 120000, 'Income']);\n",
        "  ```\n",
        "\n",
        "  - `Income` 120000 이상이 되는 값은 이상치로 간주하여 해당 row를 삭제하고 인덱스를 재설정하세요.\n",
        "\n"
      ],
      "metadata": {
        "id": "kZGgXCglUznv"
      }
    },
    {
      "cell_type": "markdown",
      "source": [
        "##### **Q2. 위의 전처리 과정을 모두 완료한 데이터프레임의 행의 개수를 쓰세요.**"
      ],
      "metadata": {
        "id": "U9teUfVZBMpK"
      }
    },
    {
      "cell_type": "code",
      "source": [
        "# 아래의 코드를 실행해 주세요. 업그레이드 완료 후에는 런타임을 재시작해야 합니다. \n",
        "!pip install scipy --upgrade"
      ],
      "metadata": {
        "colab": {
          "base_uri": "https://localhost:8080/"
        },
        "id": "jR7CP6nFSQKw",
        "outputId": "c2296c68-f7b2-485e-e7ff-3447cd2a2b15"
      },
      "execution_count": 6,
      "outputs": [
        {
          "output_type": "stream",
          "name": "stdout",
          "text": [
            "Looking in indexes: https://pypi.org/simple, https://us-python.pkg.dev/colab-wheels/public/simple/\n",
            "Requirement already satisfied: scipy in /usr/local/lib/python3.7/dist-packages (1.7.3)\n",
            "Requirement already satisfied: numpy<1.23.0,>=1.16.5 in /usr/local/lib/python3.7/dist-packages (from scipy) (1.21.6)\n"
          ]
        }
      ]
    },
    {
      "cell_type": "code",
      "source": [
        "# 이곳에 코드를 작성하세요.\n",
        "from google.colab import files\n",
        "\n",
        "files.upload();"
      ],
      "metadata": {
        "id": "xO9B2WA4Zn_H",
        "colab": {
          "resources": {
            "http://localhost:8080/nbextensions/google.colab/files.js": {
              "data": "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",
              "ok": true,
              "headers": [
                [
                  "content-type",
                  "application/javascript"
                ]
              ],
              "status": 200,
              "status_text": ""
            }
          },
          "base_uri": "https://localhost:8080/",
          "height": 77
        },
        "outputId": "3d6e4220-05a3-4f71-f83f-a0d31ad103b5"
      },
      "execution_count": 1,
      "outputs": [
        {
          "output_type": "display_data",
          "data": {
            "text/plain": [
              "<IPython.core.display.HTML object>"
            ],
            "text/html": [
              "\n",
              "     <input type=\"file\" id=\"files-7c0a8001-39c3-424e-acef-4261253932d0\" name=\"files[]\" multiple disabled\n",
              "        style=\"border:none\" />\n",
              "     <output id=\"result-7c0a8001-39c3-424e-acef-4261253932d0\">\n",
              "      Upload widget is only available when the cell has been executed in the\n",
              "      current browser session. Please rerun this cell to enable.\n",
              "      </output>\n",
              "      <script src=\"/nbextensions/google.colab/files.js\"></script> "
            ]
          },
          "metadata": {}
        },
        {
          "output_type": "stream",
          "name": "stdout",
          "text": [
            "Saving sc12_data.csv to sc12_data.csv\n"
          ]
        }
      ]
    },
    {
      "cell_type": "code",
      "source": [
        "import pandas as pd\n",
        "data = pd.read_csv('sc12_data.csv')\n",
        "                #    encoding='cp949', usecols=['측정일시', '측정소명', '오존(ppm)'])\n",
        "data"
      ],
      "metadata": {
        "colab": {
          "base_uri": "https://localhost:8080/",
          "height": 488
        },
        "id": "sPhm0wH5Av8D",
        "outputId": "e0d1c626-0a75-4334-dddc-3e78f9a3eaa1"
      },
      "execution_count": 92,
      "outputs": [
        {
          "output_type": "execute_result",
          "data": {
            "text/plain": [
              "         ID  Year_Birth Country   Education Marital_Status      Income   \\\n",
              "0      1826        1970      SP  Graduation       Divorced  $84,835.00    \n",
              "1         1        1961      CA  Graduation         Single  $57,091.00    \n",
              "2     10476        1958      US  Graduation        Married  $67,267.00    \n",
              "3      1386        1967     AUS  Graduation       Together  $32,474.00    \n",
              "4      5371        1989      SP  Graduation         Single  $21,474.00    \n",
              "...     ...         ...     ...         ...            ...          ...   \n",
              "2183   9977        1973      US  Graduation       Divorced  $78,901.00    \n",
              "2184  10142        1976      US         PhD       Divorced  $66,476.00    \n",
              "2185   5263        1977      SP    2n Cycle        Married  $31,056.00    \n",
              "2186     22        1976      SP  Graduation       Divorced  $46,310.00    \n",
              "2187    528        1978     IND  Graduation        Married  $65,819.00    \n",
              "\n",
              "      Kidhome  Teenhome Dt_Customer  Recency  ...  MntFruits  MntMeatProducts  \\\n",
              "0           0         0     6/16/14        0  ...        104              379   \n",
              "1           0         0     6/15/14        0  ...          5               64   \n",
              "2           0         1     5/13/14        0  ...         11               59   \n",
              "3           1         1     5/11/14        0  ...          0                1   \n",
              "4           1         0      4/8/14        0  ...         16               24   \n",
              "...       ...       ...         ...      ...  ...        ...              ...   \n",
              "2183        0         1     9/17/13       99  ...         11              309   \n",
              "2184        0         1      3/7/13       99  ...         18              126   \n",
              "2185        1         0     1/22/13       99  ...         10               13   \n",
              "2186        1         0     12/3/12       99  ...          2               88   \n",
              "2187        0         0    11/29/12       99  ...         38              701   \n",
              "\n",
              "      MntFishProducts  MntSweetProducts  MntGoldProds  NumDealsPurchases  \\\n",
              "0                 111               189           218                  1   \n",
              "1                   7                 0            37                  1   \n",
              "2                  15                 2            30                  1   \n",
              "3                   0                 0             0                  1   \n",
              "4                  11                 0            34                  2   \n",
              "...               ...               ...           ...                ...   \n",
              "2183               33                26            34                  3   \n",
              "2184               47                48            78                  2   \n",
              "2185                3                 8            16                  1   \n",
              "2186               15                 5            14                  2   \n",
              "2187              149               165            63                  1   \n",
              "\n",
              "      NumWebPurchases  NumStorePurchases  NumWebVisitsMonth  Complain  \n",
              "0                   4                  6                  1         0  \n",
              "1                   7                  7                  5         0  \n",
              "2                   3                  5                  2         0  \n",
              "3                   1                  2                  7         0  \n",
              "4                   3                  2                  7         0  \n",
              "...               ...                ...                ...       ...  \n",
              "2183                9                  5                  4         0  \n",
              "2184                5                 11                  4         0  \n",
              "2185                1                  3                  8         0  \n",
              "2186                6                  5                  8         0  \n",
              "2187                5                 10                  3         0  \n",
              "\n",
              "[2188 rows x 21 columns]"
            ],
            "text/html": [
              "\n",
              "  <div id=\"df-47f8e0c8-3a97-40fc-a55d-1bdcd8e2ebca\">\n",
              "    <div class=\"colab-df-container\">\n",
              "      <div>\n",
              "<style scoped>\n",
              "    .dataframe tbody tr th:only-of-type {\n",
              "        vertical-align: middle;\n",
              "    }\n",
              "\n",
              "    .dataframe tbody tr th {\n",
              "        vertical-align: top;\n",
              "    }\n",
              "\n",
              "    .dataframe thead th {\n",
              "        text-align: right;\n",
              "    }\n",
              "</style>\n",
              "<table border=\"1\" class=\"dataframe\">\n",
              "  <thead>\n",
              "    <tr style=\"text-align: right;\">\n",
              "      <th></th>\n",
              "      <th>ID</th>\n",
              "      <th>Year_Birth</th>\n",
              "      <th>Country</th>\n",
              "      <th>Education</th>\n",
              "      <th>Marital_Status</th>\n",
              "      <th>Income</th>\n",
              "      <th>Kidhome</th>\n",
              "      <th>Teenhome</th>\n",
              "      <th>Dt_Customer</th>\n",
              "      <th>Recency</th>\n",
              "      <th>...</th>\n",
              "      <th>MntFruits</th>\n",
              "      <th>MntMeatProducts</th>\n",
              "      <th>MntFishProducts</th>\n",
              "      <th>MntSweetProducts</th>\n",
              "      <th>MntGoldProds</th>\n",
              "      <th>NumDealsPurchases</th>\n",
              "      <th>NumWebPurchases</th>\n",
              "      <th>NumStorePurchases</th>\n",
              "      <th>NumWebVisitsMonth</th>\n",
              "      <th>Complain</th>\n",
              "    </tr>\n",
              "  </thead>\n",
              "  <tbody>\n",
              "    <tr>\n",
              "      <th>0</th>\n",
              "      <td>1826</td>\n",
              "      <td>1970</td>\n",
              "      <td>SP</td>\n",
              "      <td>Graduation</td>\n",
              "      <td>Divorced</td>\n",
              "      <td>$84,835.00</td>\n",
              "      <td>0</td>\n",
              "      <td>0</td>\n",
              "      <td>6/16/14</td>\n",
              "      <td>0</td>\n",
              "      <td>...</td>\n",
              "      <td>104</td>\n",
              "      <td>379</td>\n",
              "      <td>111</td>\n",
              "      <td>189</td>\n",
              "      <td>218</td>\n",
              "      <td>1</td>\n",
              "      <td>4</td>\n",
              "      <td>6</td>\n",
              "      <td>1</td>\n",
              "      <td>0</td>\n",
              "    </tr>\n",
              "    <tr>\n",
              "      <th>1</th>\n",
              "      <td>1</td>\n",
              "      <td>1961</td>\n",
              "      <td>CA</td>\n",
              "      <td>Graduation</td>\n",
              "      <td>Single</td>\n",
              "      <td>$57,091.00</td>\n",
              "      <td>0</td>\n",
              "      <td>0</td>\n",
              "      <td>6/15/14</td>\n",
              "      <td>0</td>\n",
              "      <td>...</td>\n",
              "      <td>5</td>\n",
              "      <td>64</td>\n",
              "      <td>7</td>\n",
              "      <td>0</td>\n",
              "      <td>37</td>\n",
              "      <td>1</td>\n",
              "      <td>7</td>\n",
              "      <td>7</td>\n",
              "      <td>5</td>\n",
              "      <td>0</td>\n",
              "    </tr>\n",
              "    <tr>\n",
              "      <th>2</th>\n",
              "      <td>10476</td>\n",
              "      <td>1958</td>\n",
              "      <td>US</td>\n",
              "      <td>Graduation</td>\n",
              "      <td>Married</td>\n",
              "      <td>$67,267.00</td>\n",
              "      <td>0</td>\n",
              "      <td>1</td>\n",
              "      <td>5/13/14</td>\n",
              "      <td>0</td>\n",
              "      <td>...</td>\n",
              "      <td>11</td>\n",
              "      <td>59</td>\n",
              "      <td>15</td>\n",
              "      <td>2</td>\n",
              "      <td>30</td>\n",
              "      <td>1</td>\n",
              "      <td>3</td>\n",
              "      <td>5</td>\n",
              "      <td>2</td>\n",
              "      <td>0</td>\n",
              "    </tr>\n",
              "    <tr>\n",
              "      <th>3</th>\n",
              "      <td>1386</td>\n",
              "      <td>1967</td>\n",
              "      <td>AUS</td>\n",
              "      <td>Graduation</td>\n",
              "      <td>Together</td>\n",
              "      <td>$32,474.00</td>\n",
              "      <td>1</td>\n",
              "      <td>1</td>\n",
              "      <td>5/11/14</td>\n",
              "      <td>0</td>\n",
              "      <td>...</td>\n",
              "      <td>0</td>\n",
              "      <td>1</td>\n",
              "      <td>0</td>\n",
              "      <td>0</td>\n",
              "      <td>0</td>\n",
              "      <td>1</td>\n",
              "      <td>1</td>\n",
              "      <td>2</td>\n",
              "      <td>7</td>\n",
              "      <td>0</td>\n",
              "    </tr>\n",
              "    <tr>\n",
              "      <th>4</th>\n",
              "      <td>5371</td>\n",
              "      <td>1989</td>\n",
              "      <td>SP</td>\n",
              "      <td>Graduation</td>\n",
              "      <td>Single</td>\n",
              "      <td>$21,474.00</td>\n",
              "      <td>1</td>\n",
              "      <td>0</td>\n",
              "      <td>4/8/14</td>\n",
              "      <td>0</td>\n",
              "      <td>...</td>\n",
              "      <td>16</td>\n",
              "      <td>24</td>\n",
              "      <td>11</td>\n",
              "      <td>0</td>\n",
              "      <td>34</td>\n",
              "      <td>2</td>\n",
              "      <td>3</td>\n",
              "      <td>2</td>\n",
              "      <td>7</td>\n",
              "      <td>0</td>\n",
              "    </tr>\n",
              "    <tr>\n",
              "      <th>...</th>\n",
              "      <td>...</td>\n",
              "      <td>...</td>\n",
              "      <td>...</td>\n",
              "      <td>...</td>\n",
              "      <td>...</td>\n",
              "      <td>...</td>\n",
              "      <td>...</td>\n",
              "      <td>...</td>\n",
              "      <td>...</td>\n",
              "      <td>...</td>\n",
              "      <td>...</td>\n",
              "      <td>...</td>\n",
              "      <td>...</td>\n",
              "      <td>...</td>\n",
              "      <td>...</td>\n",
              "      <td>...</td>\n",
              "      <td>...</td>\n",
              "      <td>...</td>\n",
              "      <td>...</td>\n",
              "      <td>...</td>\n",
              "      <td>...</td>\n",
              "    </tr>\n",
              "    <tr>\n",
              "      <th>2183</th>\n",
              "      <td>9977</td>\n",
              "      <td>1973</td>\n",
              "      <td>US</td>\n",
              "      <td>Graduation</td>\n",
              "      <td>Divorced</td>\n",
              "      <td>$78,901.00</td>\n",
              "      <td>0</td>\n",
              "      <td>1</td>\n",
              "      <td>9/17/13</td>\n",
              "      <td>99</td>\n",
              "      <td>...</td>\n",
              "      <td>11</td>\n",
              "      <td>309</td>\n",
              "      <td>33</td>\n",
              "      <td>26</td>\n",
              "      <td>34</td>\n",
              "      <td>3</td>\n",
              "      <td>9</td>\n",
              "      <td>5</td>\n",
              "      <td>4</td>\n",
              "      <td>0</td>\n",
              "    </tr>\n",
              "    <tr>\n",
              "      <th>2184</th>\n",
              "      <td>10142</td>\n",
              "      <td>1976</td>\n",
              "      <td>US</td>\n",
              "      <td>PhD</td>\n",
              "      <td>Divorced</td>\n",
              "      <td>$66,476.00</td>\n",
              "      <td>0</td>\n",
              "      <td>1</td>\n",
              "      <td>3/7/13</td>\n",
              "      <td>99</td>\n",
              "      <td>...</td>\n",
              "      <td>18</td>\n",
              "      <td>126</td>\n",
              "      <td>47</td>\n",
              "      <td>48</td>\n",
              "      <td>78</td>\n",
              "      <td>2</td>\n",
              "      <td>5</td>\n",
              "      <td>11</td>\n",
              "      <td>4</td>\n",
              "      <td>0</td>\n",
              "    </tr>\n",
              "    <tr>\n",
              "      <th>2185</th>\n",
              "      <td>5263</td>\n",
              "      <td>1977</td>\n",
              "      <td>SP</td>\n",
              "      <td>2n Cycle</td>\n",
              "      <td>Married</td>\n",
              "      <td>$31,056.00</td>\n",
              "      <td>1</td>\n",
              "      <td>0</td>\n",
              "      <td>1/22/13</td>\n",
              "      <td>99</td>\n",
              "      <td>...</td>\n",
              "      <td>10</td>\n",
              "      <td>13</td>\n",
              "      <td>3</td>\n",
              "      <td>8</td>\n",
              "      <td>16</td>\n",
              "      <td>1</td>\n",
              "      <td>1</td>\n",
              "      <td>3</td>\n",
              "      <td>8</td>\n",
              "      <td>0</td>\n",
              "    </tr>\n",
              "    <tr>\n",
              "      <th>2186</th>\n",
              "      <td>22</td>\n",
              "      <td>1976</td>\n",
              "      <td>SP</td>\n",
              "      <td>Graduation</td>\n",
              "      <td>Divorced</td>\n",
              "      <td>$46,310.00</td>\n",
              "      <td>1</td>\n",
              "      <td>0</td>\n",
              "      <td>12/3/12</td>\n",
              "      <td>99</td>\n",
              "      <td>...</td>\n",
              "      <td>2</td>\n",
              "      <td>88</td>\n",
              "      <td>15</td>\n",
              "      <td>5</td>\n",
              "      <td>14</td>\n",
              "      <td>2</td>\n",
              "      <td>6</td>\n",
              "      <td>5</td>\n",
              "      <td>8</td>\n",
              "      <td>0</td>\n",
              "    </tr>\n",
              "    <tr>\n",
              "      <th>2187</th>\n",
              "      <td>528</td>\n",
              "      <td>1978</td>\n",
              "      <td>IND</td>\n",
              "      <td>Graduation</td>\n",
              "      <td>Married</td>\n",
              "      <td>$65,819.00</td>\n",
              "      <td>0</td>\n",
              "      <td>0</td>\n",
              "      <td>11/29/12</td>\n",
              "      <td>99</td>\n",
              "      <td>...</td>\n",
              "      <td>38</td>\n",
              "      <td>701</td>\n",
              "      <td>149</td>\n",
              "      <td>165</td>\n",
              "      <td>63</td>\n",
              "      <td>1</td>\n",
              "      <td>5</td>\n",
              "      <td>10</td>\n",
              "      <td>3</td>\n",
              "      <td>0</td>\n",
              "    </tr>\n",
              "  </tbody>\n",
              "</table>\n",
              "<p>2188 rows × 21 columns</p>\n",
              "</div>\n",
              "      <button class=\"colab-df-convert\" onclick=\"convertToInteractive('df-47f8e0c8-3a97-40fc-a55d-1bdcd8e2ebca')\"\n",
              "              title=\"Convert this dataframe to an interactive table.\"\n",
              "              style=\"display:none;\">\n",
              "        \n",
              "  <svg xmlns=\"http://www.w3.org/2000/svg\" height=\"24px\"viewBox=\"0 0 24 24\"\n",
              "       width=\"24px\">\n",
              "    <path d=\"M0 0h24v24H0V0z\" fill=\"none\"/>\n",
              "    <path d=\"M18.56 5.44l.94 2.06.94-2.06 2.06-.94-2.06-.94-.94-2.06-.94 2.06-2.06.94zm-11 1L8.5 8.5l.94-2.06 2.06-.94-2.06-.94L8.5 2.5l-.94 2.06-2.06.94zm10 10l.94 2.06.94-2.06 2.06-.94-2.06-.94-.94-2.06-.94 2.06-2.06.94z\"/><path d=\"M17.41 7.96l-1.37-1.37c-.4-.4-.92-.59-1.43-.59-.52 0-1.04.2-1.43.59L10.3 9.45l-7.72 7.72c-.78.78-.78 2.05 0 2.83L4 21.41c.39.39.9.59 1.41.59.51 0 1.02-.2 1.41-.59l7.78-7.78 2.81-2.81c.8-.78.8-2.07 0-2.86zM5.41 20L4 18.59l7.72-7.72 1.47 1.35L5.41 20z\"/>\n",
              "  </svg>\n",
              "      </button>\n",
              "      \n",
              "  <style>\n",
              "    .colab-df-container {\n",
              "      display:flex;\n",
              "      flex-wrap:wrap;\n",
              "      gap: 12px;\n",
              "    }\n",
              "\n",
              "    .colab-df-convert {\n",
              "      background-color: #E8F0FE;\n",
              "      border: none;\n",
              "      border-radius: 50%;\n",
              "      cursor: pointer;\n",
              "      display: none;\n",
              "      fill: #1967D2;\n",
              "      height: 32px;\n",
              "      padding: 0 0 0 0;\n",
              "      width: 32px;\n",
              "    }\n",
              "\n",
              "    .colab-df-convert:hover {\n",
              "      background-color: #E2EBFA;\n",
              "      box-shadow: 0px 1px 2px rgba(60, 64, 67, 0.3), 0px 1px 3px 1px rgba(60, 64, 67, 0.15);\n",
              "      fill: #174EA6;\n",
              "    }\n",
              "\n",
              "    [theme=dark] .colab-df-convert {\n",
              "      background-color: #3B4455;\n",
              "      fill: #D2E3FC;\n",
              "    }\n",
              "\n",
              "    [theme=dark] .colab-df-convert:hover {\n",
              "      background-color: #434B5C;\n",
              "      box-shadow: 0px 1px 3px 1px rgba(0, 0, 0, 0.15);\n",
              "      filter: drop-shadow(0px 1px 2px rgba(0, 0, 0, 0.3));\n",
              "      fill: #FFFFFF;\n",
              "    }\n",
              "  </style>\n",
              "\n",
              "      <script>\n",
              "        const buttonEl =\n",
              "          document.querySelector('#df-47f8e0c8-3a97-40fc-a55d-1bdcd8e2ebca button.colab-df-convert');\n",
              "        buttonEl.style.display =\n",
              "          google.colab.kernel.accessAllowed ? 'block' : 'none';\n",
              "\n",
              "        async function convertToInteractive(key) {\n",
              "          const element = document.querySelector('#df-47f8e0c8-3a97-40fc-a55d-1bdcd8e2ebca');\n",
              "          const dataTable =\n",
              "            await google.colab.kernel.invokeFunction('convertToInteractive',\n",
              "                                                     [key], {});\n",
              "          if (!dataTable) return;\n",
              "\n",
              "          const docLinkHtml = 'Like what you see? Visit the ' +\n",
              "            '<a target=\"_blank\" href=https://colab.research.google.com/notebooks/data_table.ipynb>data table notebook</a>'\n",
              "            + ' to learn more about interactive tables.';\n",
              "          element.innerHTML = '';\n",
              "          dataTable['output_type'] = 'display_data';\n",
              "          await google.colab.output.renderOutput(dataTable, element);\n",
              "          const docLink = document.createElement('div');\n",
              "          docLink.innerHTML = docLinkHtml;\n",
              "          element.appendChild(docLink);\n",
              "        }\n",
              "      </script>\n",
              "    </div>\n",
              "  </div>\n",
              "  "
            ]
          },
          "metadata": {},
          "execution_count": 92
        }
      ]
    },
    {
      "cell_type": "code",
      "source": [
        "data.columns"
      ],
      "metadata": {
        "colab": {
          "base_uri": "https://localhost:8080/"
        },
        "id": "q0NmrEURBsmg",
        "outputId": "3d958f31-e800-4aa1-9772-160663664301"
      },
      "execution_count": 93,
      "outputs": [
        {
          "output_type": "execute_result",
          "data": {
            "text/plain": [
              "Index(['ID', 'Year_Birth', 'Country', 'Education', 'Marital_Status',\n",
              "       ' Income ', 'Kidhome', 'Teenhome', 'Dt_Customer', 'Recency', 'MntWines',\n",
              "       'MntFruits', 'MntMeatProducts', 'MntFishProducts', 'MntSweetProducts',\n",
              "       'MntGoldProds', 'NumDealsPurchases', 'NumWebPurchases',\n",
              "       'NumStorePurchases', 'NumWebVisitsMonth', 'Complain'],\n",
              "      dtype='object')"
            ]
          },
          "metadata": {},
          "execution_count": 93
        }
      ]
    },
    {
      "cell_type": "code",
      "source": [
        "data.rename(columns={' Income ' : 'Income'}, inplace=True)\n",
        "data.columns"
      ],
      "metadata": {
        "colab": {
          "base_uri": "https://localhost:8080/"
        },
        "id": "GaHBonkWDBk-",
        "outputId": "9f64a15d-3570-4b96-a86d-531c7b75a04f"
      },
      "execution_count": 94,
      "outputs": [
        {
          "output_type": "execute_result",
          "data": {
            "text/plain": [
              "Index(['ID', 'Year_Birth', 'Country', 'Education', 'Marital_Status', 'Income',\n",
              "       'Kidhome', 'Teenhome', 'Dt_Customer', 'Recency', 'MntWines',\n",
              "       'MntFruits', 'MntMeatProducts', 'MntFishProducts', 'MntSweetProducts',\n",
              "       'MntGoldProds', 'NumDealsPurchases', 'NumWebPurchases',\n",
              "       'NumStorePurchases', 'NumWebVisitsMonth', 'Complain'],\n",
              "      dtype='object')"
            ]
          },
          "metadata": {},
          "execution_count": 94
        }
      ]
    },
    {
      "cell_type": "code",
      "source": [
        "data.info()"
      ],
      "metadata": {
        "colab": {
          "base_uri": "https://localhost:8080/"
        },
        "id": "fmNMfiBSDdN4",
        "outputId": "37def1c0-8cee-4179-f194-56324c34343a"
      },
      "execution_count": 95,
      "outputs": [
        {
          "output_type": "stream",
          "name": "stdout",
          "text": [
            "<class 'pandas.core.frame.DataFrame'>\n",
            "RangeIndex: 2188 entries, 0 to 2187\n",
            "Data columns (total 21 columns):\n",
            " #   Column             Non-Null Count  Dtype \n",
            "---  ------             --------------  ----- \n",
            " 0   ID                 2188 non-null   int64 \n",
            " 1   Year_Birth         2188 non-null   int64 \n",
            " 2   Country            2188 non-null   object\n",
            " 3   Education          2188 non-null   object\n",
            " 4   Marital_Status     2188 non-null   object\n",
            " 5   Income             2165 non-null   object\n",
            " 6   Kidhome            2188 non-null   int64 \n",
            " 7   Teenhome           2188 non-null   int64 \n",
            " 8   Dt_Customer        2188 non-null   object\n",
            " 9   Recency            2188 non-null   int64 \n",
            " 10  MntWines           2188 non-null   int64 \n",
            " 11  MntFruits          2188 non-null   int64 \n",
            " 12  MntMeatProducts    2188 non-null   int64 \n",
            " 13  MntFishProducts    2188 non-null   int64 \n",
            " 14  MntSweetProducts   2188 non-null   int64 \n",
            " 15  MntGoldProds       2188 non-null   int64 \n",
            " 16  NumDealsPurchases  2188 non-null   int64 \n",
            " 17  NumWebPurchases    2188 non-null   int64 \n",
            " 18  NumStorePurchases  2188 non-null   int64 \n",
            " 19  NumWebVisitsMonth  2188 non-null   int64 \n",
            " 20  Complain           2188 non-null   int64 \n",
            "dtypes: int64(16), object(5)\n",
            "memory usage: 359.1+ KB\n"
          ]
        }
      ]
    },
    {
      "cell_type": "code",
      "source": [
        "data.dropna(inplace=True)\n",
        "data.reset_index(drop=True, inplace=True)\n",
        "data.info()"
      ],
      "metadata": {
        "colab": {
          "base_uri": "https://localhost:8080/"
        },
        "id": "LFdER3YYDdGz",
        "outputId": "584ad760-ee42-458c-a9a5-78582cfc9942"
      },
      "execution_count": 96,
      "outputs": [
        {
          "output_type": "stream",
          "name": "stdout",
          "text": [
            "<class 'pandas.core.frame.DataFrame'>\n",
            "RangeIndex: 2165 entries, 0 to 2164\n",
            "Data columns (total 21 columns):\n",
            " #   Column             Non-Null Count  Dtype \n",
            "---  ------             --------------  ----- \n",
            " 0   ID                 2165 non-null   int64 \n",
            " 1   Year_Birth         2165 non-null   int64 \n",
            " 2   Country            2165 non-null   object\n",
            " 3   Education          2165 non-null   object\n",
            " 4   Marital_Status     2165 non-null   object\n",
            " 5   Income             2165 non-null   object\n",
            " 6   Kidhome            2165 non-null   int64 \n",
            " 7   Teenhome           2165 non-null   int64 \n",
            " 8   Dt_Customer        2165 non-null   object\n",
            " 9   Recency            2165 non-null   int64 \n",
            " 10  MntWines           2165 non-null   int64 \n",
            " 11  MntFruits          2165 non-null   int64 \n",
            " 12  MntMeatProducts    2165 non-null   int64 \n",
            " 13  MntFishProducts    2165 non-null   int64 \n",
            " 14  MntSweetProducts   2165 non-null   int64 \n",
            " 15  MntGoldProds       2165 non-null   int64 \n",
            " 16  NumDealsPurchases  2165 non-null   int64 \n",
            " 17  NumWebPurchases    2165 non-null   int64 \n",
            " 18  NumStorePurchases  2165 non-null   int64 \n",
            " 19  NumWebVisitsMonth  2165 non-null   int64 \n",
            " 20  Complain           2165 non-null   int64 \n",
            "dtypes: int64(16), object(5)\n",
            "memory usage: 355.3+ KB\n"
          ]
        }
      ]
    },
    {
      "cell_type": "code",
      "source": [
        "import re\n",
        "\n",
        "def cleaning(df):\n",
        "    li = []\n",
        "    for row in data['Income']:\n",
        "        splited = row.split('.') # .을 기준으로 문자열을 분리합니다.\n",
        "        result = re.sub('[^0-9]','', splited[0]) # .기준 앞 부분만 활용하여 숫자가 아닌 문자는 공백으로 치환합니다.\n",
        "        li.append(result)\n",
        "\n",
        "    data['Income'] = li"
      ],
      "metadata": {
        "id": "rlYJwhkbDA7S"
      },
      "execution_count": 97,
      "outputs": []
    },
    {
      "cell_type": "code",
      "source": [
        "data.Income.apply(cleaning)\n",
        "data.head()"
      ],
      "metadata": {
        "colab": {
          "base_uri": "https://localhost:8080/",
          "height": 300
        },
        "id": "5kaWy8giIKY4",
        "outputId": "c60a9391-ea02-4f49-e111-d16b937d523b"
      },
      "execution_count": 98,
      "outputs": [
        {
          "output_type": "execute_result",
          "data": {
            "text/plain": [
              "      ID  Year_Birth Country   Education Marital_Status Income  Kidhome  \\\n",
              "0   1826        1970      SP  Graduation       Divorced  84835        0   \n",
              "1      1        1961      CA  Graduation         Single  57091        0   \n",
              "2  10476        1958      US  Graduation        Married  67267        0   \n",
              "3   1386        1967     AUS  Graduation       Together  32474        1   \n",
              "4   5371        1989      SP  Graduation         Single  21474        1   \n",
              "\n",
              "   Teenhome Dt_Customer  Recency  ...  MntFruits  MntMeatProducts  \\\n",
              "0         0     6/16/14        0  ...        104              379   \n",
              "1         0     6/15/14        0  ...          5               64   \n",
              "2         1     5/13/14        0  ...         11               59   \n",
              "3         1     5/11/14        0  ...          0                1   \n",
              "4         0      4/8/14        0  ...         16               24   \n",
              "\n",
              "   MntFishProducts  MntSweetProducts  MntGoldProds  NumDealsPurchases  \\\n",
              "0              111               189           218                  1   \n",
              "1                7                 0            37                  1   \n",
              "2               15                 2            30                  1   \n",
              "3                0                 0             0                  1   \n",
              "4               11                 0            34                  2   \n",
              "\n",
              "   NumWebPurchases  NumStorePurchases  NumWebVisitsMonth  Complain  \n",
              "0                4                  6                  1         0  \n",
              "1                7                  7                  5         0  \n",
              "2                3                  5                  2         0  \n",
              "3                1                  2                  7         0  \n",
              "4                3                  2                  7         0  \n",
              "\n",
              "[5 rows x 21 columns]"
            ],
            "text/html": [
              "\n",
              "  <div id=\"df-0164e3d9-d840-46cb-991a-65327a8366a7\">\n",
              "    <div class=\"colab-df-container\">\n",
              "      <div>\n",
              "<style scoped>\n",
              "    .dataframe tbody tr th:only-of-type {\n",
              "        vertical-align: middle;\n",
              "    }\n",
              "\n",
              "    .dataframe tbody tr th {\n",
              "        vertical-align: top;\n",
              "    }\n",
              "\n",
              "    .dataframe thead th {\n",
              "        text-align: right;\n",
              "    }\n",
              "</style>\n",
              "<table border=\"1\" class=\"dataframe\">\n",
              "  <thead>\n",
              "    <tr style=\"text-align: right;\">\n",
              "      <th></th>\n",
              "      <th>ID</th>\n",
              "      <th>Year_Birth</th>\n",
              "      <th>Country</th>\n",
              "      <th>Education</th>\n",
              "      <th>Marital_Status</th>\n",
              "      <th>Income</th>\n",
              "      <th>Kidhome</th>\n",
              "      <th>Teenhome</th>\n",
              "      <th>Dt_Customer</th>\n",
              "      <th>Recency</th>\n",
              "      <th>...</th>\n",
              "      <th>MntFruits</th>\n",
              "      <th>MntMeatProducts</th>\n",
              "      <th>MntFishProducts</th>\n",
              "      <th>MntSweetProducts</th>\n",
              "      <th>MntGoldProds</th>\n",
              "      <th>NumDealsPurchases</th>\n",
              "      <th>NumWebPurchases</th>\n",
              "      <th>NumStorePurchases</th>\n",
              "      <th>NumWebVisitsMonth</th>\n",
              "      <th>Complain</th>\n",
              "    </tr>\n",
              "  </thead>\n",
              "  <tbody>\n",
              "    <tr>\n",
              "      <th>0</th>\n",
              "      <td>1826</td>\n",
              "      <td>1970</td>\n",
              "      <td>SP</td>\n",
              "      <td>Graduation</td>\n",
              "      <td>Divorced</td>\n",
              "      <td>84835</td>\n",
              "      <td>0</td>\n",
              "      <td>0</td>\n",
              "      <td>6/16/14</td>\n",
              "      <td>0</td>\n",
              "      <td>...</td>\n",
              "      <td>104</td>\n",
              "      <td>379</td>\n",
              "      <td>111</td>\n",
              "      <td>189</td>\n",
              "      <td>218</td>\n",
              "      <td>1</td>\n",
              "      <td>4</td>\n",
              "      <td>6</td>\n",
              "      <td>1</td>\n",
              "      <td>0</td>\n",
              "    </tr>\n",
              "    <tr>\n",
              "      <th>1</th>\n",
              "      <td>1</td>\n",
              "      <td>1961</td>\n",
              "      <td>CA</td>\n",
              "      <td>Graduation</td>\n",
              "      <td>Single</td>\n",
              "      <td>57091</td>\n",
              "      <td>0</td>\n",
              "      <td>0</td>\n",
              "      <td>6/15/14</td>\n",
              "      <td>0</td>\n",
              "      <td>...</td>\n",
              "      <td>5</td>\n",
              "      <td>64</td>\n",
              "      <td>7</td>\n",
              "      <td>0</td>\n",
              "      <td>37</td>\n",
              "      <td>1</td>\n",
              "      <td>7</td>\n",
              "      <td>7</td>\n",
              "      <td>5</td>\n",
              "      <td>0</td>\n",
              "    </tr>\n",
              "    <tr>\n",
              "      <th>2</th>\n",
              "      <td>10476</td>\n",
              "      <td>1958</td>\n",
              "      <td>US</td>\n",
              "      <td>Graduation</td>\n",
              "      <td>Married</td>\n",
              "      <td>67267</td>\n",
              "      <td>0</td>\n",
              "      <td>1</td>\n",
              "      <td>5/13/14</td>\n",
              "      <td>0</td>\n",
              "      <td>...</td>\n",
              "      <td>11</td>\n",
              "      <td>59</td>\n",
              "      <td>15</td>\n",
              "      <td>2</td>\n",
              "      <td>30</td>\n",
              "      <td>1</td>\n",
              "      <td>3</td>\n",
              "      <td>5</td>\n",
              "      <td>2</td>\n",
              "      <td>0</td>\n",
              "    </tr>\n",
              "    <tr>\n",
              "      <th>3</th>\n",
              "      <td>1386</td>\n",
              "      <td>1967</td>\n",
              "      <td>AUS</td>\n",
              "      <td>Graduation</td>\n",
              "      <td>Together</td>\n",
              "      <td>32474</td>\n",
              "      <td>1</td>\n",
              "      <td>1</td>\n",
              "      <td>5/11/14</td>\n",
              "      <td>0</td>\n",
              "      <td>...</td>\n",
              "      <td>0</td>\n",
              "      <td>1</td>\n",
              "      <td>0</td>\n",
              "      <td>0</td>\n",
              "      <td>0</td>\n",
              "      <td>1</td>\n",
              "      <td>1</td>\n",
              "      <td>2</td>\n",
              "      <td>7</td>\n",
              "      <td>0</td>\n",
              "    </tr>\n",
              "    <tr>\n",
              "      <th>4</th>\n",
              "      <td>5371</td>\n",
              "      <td>1989</td>\n",
              "      <td>SP</td>\n",
              "      <td>Graduation</td>\n",
              "      <td>Single</td>\n",
              "      <td>21474</td>\n",
              "      <td>1</td>\n",
              "      <td>0</td>\n",
              "      <td>4/8/14</td>\n",
              "      <td>0</td>\n",
              "      <td>...</td>\n",
              "      <td>16</td>\n",
              "      <td>24</td>\n",
              "      <td>11</td>\n",
              "      <td>0</td>\n",
              "      <td>34</td>\n",
              "      <td>2</td>\n",
              "      <td>3</td>\n",
              "      <td>2</td>\n",
              "      <td>7</td>\n",
              "      <td>0</td>\n",
              "    </tr>\n",
              "  </tbody>\n",
              "</table>\n",
              "<p>5 rows × 21 columns</p>\n",
              "</div>\n",
              "      <button class=\"colab-df-convert\" onclick=\"convertToInteractive('df-0164e3d9-d840-46cb-991a-65327a8366a7')\"\n",
              "              title=\"Convert this dataframe to an interactive table.\"\n",
              "              style=\"display:none;\">\n",
              "        \n",
              "  <svg xmlns=\"http://www.w3.org/2000/svg\" height=\"24px\"viewBox=\"0 0 24 24\"\n",
              "       width=\"24px\">\n",
              "    <path d=\"M0 0h24v24H0V0z\" fill=\"none\"/>\n",
              "    <path d=\"M18.56 5.44l.94 2.06.94-2.06 2.06-.94-2.06-.94-.94-2.06-.94 2.06-2.06.94zm-11 1L8.5 8.5l.94-2.06 2.06-.94-2.06-.94L8.5 2.5l-.94 2.06-2.06.94zm10 10l.94 2.06.94-2.06 2.06-.94-2.06-.94-.94-2.06-.94 2.06-2.06.94z\"/><path d=\"M17.41 7.96l-1.37-1.37c-.4-.4-.92-.59-1.43-.59-.52 0-1.04.2-1.43.59L10.3 9.45l-7.72 7.72c-.78.78-.78 2.05 0 2.83L4 21.41c.39.39.9.59 1.41.59.51 0 1.02-.2 1.41-.59l7.78-7.78 2.81-2.81c.8-.78.8-2.07 0-2.86zM5.41 20L4 18.59l7.72-7.72 1.47 1.35L5.41 20z\"/>\n",
              "  </svg>\n",
              "      </button>\n",
              "      \n",
              "  <style>\n",
              "    .colab-df-container {\n",
              "      display:flex;\n",
              "      flex-wrap:wrap;\n",
              "      gap: 12px;\n",
              "    }\n",
              "\n",
              "    .colab-df-convert {\n",
              "      background-color: #E8F0FE;\n",
              "      border: none;\n",
              "      border-radius: 50%;\n",
              "      cursor: pointer;\n",
              "      display: none;\n",
              "      fill: #1967D2;\n",
              "      height: 32px;\n",
              "      padding: 0 0 0 0;\n",
              "      width: 32px;\n",
              "    }\n",
              "\n",
              "    .colab-df-convert:hover {\n",
              "      background-color: #E2EBFA;\n",
              "      box-shadow: 0px 1px 2px rgba(60, 64, 67, 0.3), 0px 1px 3px 1px rgba(60, 64, 67, 0.15);\n",
              "      fill: #174EA6;\n",
              "    }\n",
              "\n",
              "    [theme=dark] .colab-df-convert {\n",
              "      background-color: #3B4455;\n",
              "      fill: #D2E3FC;\n",
              "    }\n",
              "\n",
              "    [theme=dark] .colab-df-convert:hover {\n",
              "      background-color: #434B5C;\n",
              "      box-shadow: 0px 1px 3px 1px rgba(0, 0, 0, 0.15);\n",
              "      filter: drop-shadow(0px 1px 2px rgba(0, 0, 0, 0.3));\n",
              "      fill: #FFFFFF;\n",
              "    }\n",
              "  </style>\n",
              "\n",
              "      <script>\n",
              "        const buttonEl =\n",
              "          document.querySelector('#df-0164e3d9-d840-46cb-991a-65327a8366a7 button.colab-df-convert');\n",
              "        buttonEl.style.display =\n",
              "          google.colab.kernel.accessAllowed ? 'block' : 'none';\n",
              "\n",
              "        async function convertToInteractive(key) {\n",
              "          const element = document.querySelector('#df-0164e3d9-d840-46cb-991a-65327a8366a7');\n",
              "          const dataTable =\n",
              "            await google.colab.kernel.invokeFunction('convertToInteractive',\n",
              "                                                     [key], {});\n",
              "          if (!dataTable) return;\n",
              "\n",
              "          const docLinkHtml = 'Like what you see? Visit the ' +\n",
              "            '<a target=\"_blank\" href=https://colab.research.google.com/notebooks/data_table.ipynb>data table notebook</a>'\n",
              "            + ' to learn more about interactive tables.';\n",
              "          element.innerHTML = '';\n",
              "          dataTable['output_type'] = 'display_data';\n",
              "          await google.colab.output.renderOutput(dataTable, element);\n",
              "          const docLink = document.createElement('div');\n",
              "          docLink.innerHTML = docLinkHtml;\n",
              "          element.appendChild(docLink);\n",
              "        }\n",
              "      </script>\n",
              "    </div>\n",
              "  </div>\n",
              "  "
            ]
          },
          "metadata": {},
          "execution_count": 98
        }
      ]
    },
    {
      "cell_type": "code",
      "source": [
        "data.Income = data.Income.astype(int)"
      ],
      "metadata": {
        "id": "OppJDlq5In94"
      },
      "execution_count": 99,
      "outputs": []
    },
    {
      "cell_type": "code",
      "source": [
        "data.info()"
      ],
      "metadata": {
        "colab": {
          "base_uri": "https://localhost:8080/"
        },
        "id": "RTxsgb8kAwfT",
        "outputId": "e6c3eb92-d402-4c00-fd09-ffafab9e8708"
      },
      "execution_count": 100,
      "outputs": [
        {
          "output_type": "stream",
          "name": "stdout",
          "text": [
            "<class 'pandas.core.frame.DataFrame'>\n",
            "RangeIndex: 2165 entries, 0 to 2164\n",
            "Data columns (total 21 columns):\n",
            " #   Column             Non-Null Count  Dtype \n",
            "---  ------             --------------  ----- \n",
            " 0   ID                 2165 non-null   int64 \n",
            " 1   Year_Birth         2165 non-null   int64 \n",
            " 2   Country            2165 non-null   object\n",
            " 3   Education          2165 non-null   object\n",
            " 4   Marital_Status     2165 non-null   object\n",
            " 5   Income             2165 non-null   int64 \n",
            " 6   Kidhome            2165 non-null   int64 \n",
            " 7   Teenhome           2165 non-null   int64 \n",
            " 8   Dt_Customer        2165 non-null   object\n",
            " 9   Recency            2165 non-null   int64 \n",
            " 10  MntWines           2165 non-null   int64 \n",
            " 11  MntFruits          2165 non-null   int64 \n",
            " 12  MntMeatProducts    2165 non-null   int64 \n",
            " 13  MntFishProducts    2165 non-null   int64 \n",
            " 14  MntSweetProducts   2165 non-null   int64 \n",
            " 15  MntGoldProds       2165 non-null   int64 \n",
            " 16  NumDealsPurchases  2165 non-null   int64 \n",
            " 17  NumWebPurchases    2165 non-null   int64 \n",
            " 18  NumStorePurchases  2165 non-null   int64 \n",
            " 19  NumWebVisitsMonth  2165 non-null   int64 \n",
            " 20  Complain           2165 non-null   int64 \n",
            "dtypes: int64(17), object(4)\n",
            "memory usage: 355.3+ KB\n"
          ]
        }
      ]
    },
    {
      "cell_type": "code",
      "source": [
        "import matplotlib.pyplot as plt\n",
        "\n",
        "plt.hist(data['Income']);\n",
        "\n",
        "plt.hist(data.loc[data['Income'] < 120000, 'Income']);"
      ],
      "metadata": {
        "colab": {
          "base_uri": "https://localhost:8080/",
          "height": 265
        },
        "id": "0VZ9Ze7jMJp1",
        "outputId": "b8ff170f-13ff-4da0-9e7f-4c8ef0708d39"
      },
      "execution_count": 101,
      "outputs": [
        {
          "output_type": "display_data",
          "data": {
            "text/plain": [
              "<Figure size 432x288 with 1 Axes>"
            ],
            "image/png": "[encoded data removed]"
          },
          "metadata": {
            "needs_background": "light"
          }
        }
      ]
    },
    {
      "cell_type": "code",
      "source": [
        "df = data.query(\"Income < 120000\").reset_index(drop=True)\n",
        "df"
      ],
      "metadata": {
        "colab": {
          "base_uri": "https://localhost:8080/",
          "height": 488
        },
        "id": "PoRvgNJYMJnW",
        "outputId": "ab0813de-a094-448a-9409-f9ad02b0311c"
      },
      "execution_count": 105,
      "outputs": [
        {
          "output_type": "execute_result",
          "data": {
            "text/plain": [
              "         ID  Year_Birth Country   Education Marital_Status  Income  Kidhome  \\\n",
              "0      1826        1970      SP  Graduation       Divorced   84835        0   \n",
              "1         1        1961      CA  Graduation         Single   57091        0   \n",
              "2     10476        1958      US  Graduation        Married   67267        0   \n",
              "3      1386        1967     AUS  Graduation       Together   32474        1   \n",
              "4      5371        1989      SP  Graduation         Single   21474        1   \n",
              "...     ...         ...     ...         ...            ...     ...      ...   \n",
              "2152   9977        1973      US  Graduation       Divorced   78901        0   \n",
              "2153  10142        1976      US         PhD       Divorced   66476        0   \n",
              "2154   5263        1977      SP    2n Cycle        Married   31056        1   \n",
              "2155     22        1976      SP  Graduation       Divorced   46310        1   \n",
              "2156    528        1978     IND  Graduation        Married   65819        0   \n",
              "\n",
              "      Teenhome Dt_Customer  Recency  ...  MntFruits  MntMeatProducts  \\\n",
              "0            0     6/16/14        0  ...        104              379   \n",
              "1            0     6/15/14        0  ...          5               64   \n",
              "2            1     5/13/14        0  ...         11               59   \n",
              "3            1     5/11/14        0  ...          0                1   \n",
              "4            0      4/8/14        0  ...         16               24   \n",
              "...        ...         ...      ...  ...        ...              ...   \n",
              "2152         1     9/17/13       99  ...         11              309   \n",
              "2153         1      3/7/13       99  ...         18              126   \n",
              "2154         0     1/22/13       99  ...         10               13   \n",
              "2155         0     12/3/12       99  ...          2               88   \n",
              "2156         0    11/29/12       99  ...         38              701   \n",
              "\n",
              "      MntFishProducts  MntSweetProducts  MntGoldProds  NumDealsPurchases  \\\n",
              "0                 111               189           218                  1   \n",
              "1                   7                 0            37                  1   \n",
              "2                  15                 2            30                  1   \n",
              "3                   0                 0             0                  1   \n",
              "4                  11                 0            34                  2   \n",
              "...               ...               ...           ...                ...   \n",
              "2152               33                26            34                  3   \n",
              "2153               47                48            78                  2   \n",
              "2154                3                 8            16                  1   \n",
              "2155               15                 5            14                  2   \n",
              "2156              149               165            63                  1   \n",
              "\n",
              "      NumWebPurchases  NumStorePurchases  NumWebVisitsMonth  Complain  \n",
              "0                   4                  6                  1         0  \n",
              "1                   7                  7                  5         0  \n",
              "2                   3                  5                  2         0  \n",
              "3                   1                  2                  7         0  \n",
              "4                   3                  2                  7         0  \n",
              "...               ...                ...                ...       ...  \n",
              "2152                9                  5                  4         0  \n",
              "2153                5                 11                  4         0  \n",
              "2154                1                  3                  8         0  \n",
              "2155                6                  5                  8         0  \n",
              "2156                5                 10                  3         0  \n",
              "\n",
              "[2157 rows x 21 columns]"
            ],
            "text/html": [
              "\n",
              "  <div id=\"df-c299401a-3a24-4ca4-816d-503f38385e75\">\n",
              "    <div class=\"colab-df-container\">\n",
              "      <div>\n",
              "<style scoped>\n",
              "    .dataframe tbody tr th:only-of-type {\n",
              "        vertical-align: middle;\n",
              "    }\n",
              "\n",
              "    .dataframe tbody tr th {\n",
              "        vertical-align: top;\n",
              "    }\n",
              "\n",
              "    .dataframe thead th {\n",
              "        text-align: right;\n",
              "    }\n",
              "</style>\n",
              "<table border=\"1\" class=\"dataframe\">\n",
              "  <thead>\n",
              "    <tr style=\"text-align: right;\">\n",
              "      <th></th>\n",
              "      <th>ID</th>\n",
              "      <th>Year_Birth</th>\n",
              "      <th>Country</th>\n",
              "      <th>Education</th>\n",
              "      <th>Marital_Status</th>\n",
              "      <th>Income</th>\n",
              "      <th>Kidhome</th>\n",
              "      <th>Teenhome</th>\n",
              "      <th>Dt_Customer</th>\n",
              "      <th>Recency</th>\n",
              "      <th>...</th>\n",
              "      <th>MntFruits</th>\n",
              "      <th>MntMeatProducts</th>\n",
              "      <th>MntFishProducts</th>\n",
              "      <th>MntSweetProducts</th>\n",
              "      <th>MntGoldProds</th>\n",
              "      <th>NumDealsPurchases</th>\n",
              "      <th>NumWebPurchases</th>\n",
              "      <th>NumStorePurchases</th>\n",
              "      <th>NumWebVisitsMonth</th>\n",
              "      <th>Complain</th>\n",
              "    </tr>\n",
              "  </thead>\n",
              "  <tbody>\n",
              "    <tr>\n",
              "      <th>0</th>\n",
              "      <td>1826</td>\n",
              "      <td>1970</td>\n",
              "      <td>SP</td>\n",
              "      <td>Graduation</td>\n",
              "      <td>Divorced</td>\n",
              "      <td>84835</td>\n",
              "      <td>0</td>\n",
              "      <td>0</td>\n",
              "      <td>6/16/14</td>\n",
              "      <td>0</td>\n",
              "      <td>...</td>\n",
              "      <td>104</td>\n",
              "      <td>379</td>\n",
              "      <td>111</td>\n",
              "      <td>189</td>\n",
              "      <td>218</td>\n",
              "      <td>1</td>\n",
              "      <td>4</td>\n",
              "      <td>6</td>\n",
              "      <td>1</td>\n",
              "      <td>0</td>\n",
              "    </tr>\n",
              "    <tr>\n",
              "      <th>1</th>\n",
              "      <td>1</td>\n",
              "      <td>1961</td>\n",
              "      <td>CA</td>\n",
              "      <td>Graduation</td>\n",
              "      <td>Single</td>\n",
              "      <td>57091</td>\n",
              "      <td>0</td>\n",
              "      <td>0</td>\n",
              "      <td>6/15/14</td>\n",
              "      <td>0</td>\n",
              "      <td>...</td>\n",
              "      <td>5</td>\n",
              "      <td>64</td>\n",
              "      <td>7</td>\n",
              "      <td>0</td>\n",
              "      <td>37</td>\n",
              "      <td>1</td>\n",
              "      <td>7</td>\n",
              "      <td>7</td>\n",
              "      <td>5</td>\n",
              "      <td>0</td>\n",
              "    </tr>\n",
              "    <tr>\n",
              "      <th>2</th>\n",
              "      <td>10476</td>\n",
              "      <td>1958</td>\n",
              "      <td>US</td>\n",
              "      <td>Graduation</td>\n",
              "      <td>Married</td>\n",
              "      <td>67267</td>\n",
              "      <td>0</td>\n",
              "      <td>1</td>\n",
              "      <td>5/13/14</td>\n",
              "      <td>0</td>\n",
              "      <td>...</td>\n",
              "      <td>11</td>\n",
              "      <td>59</td>\n",
              "      <td>15</td>\n",
              "      <td>2</td>\n",
              "      <td>30</td>\n",
              "      <td>1</td>\n",
              "      <td>3</td>\n",
              "      <td>5</td>\n",
              "      <td>2</td>\n",
              "      <td>0</td>\n",
              "    </tr>\n",
              "    <tr>\n",
              "      <th>3</th>\n",
              "      <td>1386</td>\n",
              "      <td>1967</td>\n",
              "      <td>AUS</td>\n",
              "      <td>Graduation</td>\n",
              "      <td>Together</td>\n",
              "      <td>32474</td>\n",
              "      <td>1</td>\n",
              "      <td>1</td>\n",
              "      <td>5/11/14</td>\n",
              "      <td>0</td>\n",
              "      <td>...</td>\n",
              "      <td>0</td>\n",
              "      <td>1</td>\n",
              "      <td>0</td>\n",
              "      <td>0</td>\n",
              "      <td>0</td>\n",
              "      <td>1</td>\n",
              "      <td>1</td>\n",
              "      <td>2</td>\n",
              "      <td>7</td>\n",
              "      <td>0</td>\n",
              "    </tr>\n",
              "    <tr>\n",
              "      <th>4</th>\n",
              "      <td>5371</td>\n",
              "      <td>1989</td>\n",
              "      <td>SP</td>\n",
              "      <td>Graduation</td>\n",
              "      <td>Single</td>\n",
              "      <td>21474</td>\n",
              "      <td>1</td>\n",
              "      <td>0</td>\n",
              "      <td>4/8/14</td>\n",
              "      <td>0</td>\n",
              "      <td>...</td>\n",
              "      <td>16</td>\n",
              "      <td>24</td>\n",
              "      <td>11</td>\n",
              "      <td>0</td>\n",
              "      <td>34</td>\n",
              "      <td>2</td>\n",
              "      <td>3</td>\n",
              "      <td>2</td>\n",
              "      <td>7</td>\n",
              "      <td>0</td>\n",
              "    </tr>\n",
              "    <tr>\n",
              "      <th>...</th>\n",
              "      <td>...</td>\n",
              "      <td>...</td>\n",
              "      <td>...</td>\n",
              "      <td>...</td>\n",
              "      <td>...</td>\n",
              "      <td>...</td>\n",
              "      <td>...</td>\n",
              "      <td>...</td>\n",
              "      <td>...</td>\n",
              "      <td>...</td>\n",
              "      <td>...</td>\n",
              "      <td>...</td>\n",
              "      <td>...</td>\n",
              "      <td>...</td>\n",
              "      <td>...</td>\n",
              "      <td>...</td>\n",
              "      <td>...</td>\n",
              "      <td>...</td>\n",
              "      <td>...</td>\n",
              "      <td>...</td>\n",
              "      <td>...</td>\n",
              "    </tr>\n",
              "    <tr>\n",
              "      <th>2152</th>\n",
              "      <td>9977</td>\n",
              "      <td>1973</td>\n",
              "      <td>US</td>\n",
              "      <td>Graduation</td>\n",
              "      <td>Divorced</td>\n",
              "      <td>78901</td>\n",
              "      <td>0</td>\n",
              "      <td>1</td>\n",
              "      <td>9/17/13</td>\n",
              "      <td>99</td>\n",
              "      <td>...</td>\n",
              "      <td>11</td>\n",
              "      <td>309</td>\n",
              "      <td>33</td>\n",
              "      <td>26</td>\n",
              "      <td>34</td>\n",
              "      <td>3</td>\n",
              "      <td>9</td>\n",
              "      <td>5</td>\n",
              "      <td>4</td>\n",
              "      <td>0</td>\n",
              "    </tr>\n",
              "    <tr>\n",
              "      <th>2153</th>\n",
              "      <td>10142</td>\n",
              "      <td>1976</td>\n",
              "      <td>US</td>\n",
              "      <td>PhD</td>\n",
              "      <td>Divorced</td>\n",
              "      <td>66476</td>\n",
              "      <td>0</td>\n",
              "      <td>1</td>\n",
              "      <td>3/7/13</td>\n",
              "      <td>99</td>\n",
              "      <td>...</td>\n",
              "      <td>18</td>\n",
              "      <td>126</td>\n",
              "      <td>47</td>\n",
              "      <td>48</td>\n",
              "      <td>78</td>\n",
              "      <td>2</td>\n",
              "      <td>5</td>\n",
              "      <td>11</td>\n",
              "      <td>4</td>\n",
              "      <td>0</td>\n",
              "    </tr>\n",
              "    <tr>\n",
              "      <th>2154</th>\n",
              "      <td>5263</td>\n",
              "      <td>1977</td>\n",
              "      <td>SP</td>\n",
              "      <td>2n Cycle</td>\n",
              "      <td>Married</td>\n",
              "      <td>31056</td>\n",
              "      <td>1</td>\n",
              "      <td>0</td>\n",
              "      <td>1/22/13</td>\n",
              "      <td>99</td>\n",
              "      <td>...</td>\n",
              "      <td>10</td>\n",
              "      <td>13</td>\n",
              "      <td>3</td>\n",
              "      <td>8</td>\n",
              "      <td>16</td>\n",
              "      <td>1</td>\n",
              "      <td>1</td>\n",
              "      <td>3</td>\n",
              "      <td>8</td>\n",
              "      <td>0</td>\n",
              "    </tr>\n",
              "    <tr>\n",
              "      <th>2155</th>\n",
              "      <td>22</td>\n",
              "      <td>1976</td>\n",
              "      <td>SP</td>\n",
              "      <td>Graduation</td>\n",
              "      <td>Divorced</td>\n",
              "      <td>46310</td>\n",
              "      <td>1</td>\n",
              "      <td>0</td>\n",
              "      <td>12/3/12</td>\n",
              "      <td>99</td>\n",
              "      <td>...</td>\n",
              "      <td>2</td>\n",
              "      <td>88</td>\n",
              "      <td>15</td>\n",
              "      <td>5</td>\n",
              "      <td>14</td>\n",
              "      <td>2</td>\n",
              "      <td>6</td>\n",
              "      <td>5</td>\n",
              "      <td>8</td>\n",
              "      <td>0</td>\n",
              "    </tr>\n",
              "    <tr>\n",
              "      <th>2156</th>\n",
              "      <td>528</td>\n",
              "      <td>1978</td>\n",
              "      <td>IND</td>\n",
              "      <td>Graduation</td>\n",
              "      <td>Married</td>\n",
              "      <td>65819</td>\n",
              "      <td>0</td>\n",
              "      <td>0</td>\n",
              "      <td>11/29/12</td>\n",
              "      <td>99</td>\n",
              "      <td>...</td>\n",
              "      <td>38</td>\n",
              "      <td>701</td>\n",
              "      <td>149</td>\n",
              "      <td>165</td>\n",
              "      <td>63</td>\n",
              "      <td>1</td>\n",
              "      <td>5</td>\n",
              "      <td>10</td>\n",
              "      <td>3</td>\n",
              "      <td>0</td>\n",
              "    </tr>\n",
              "  </tbody>\n",
              "</table>\n",
              "<p>2157 rows × 21 columns</p>\n",
              "</div>\n",
              "      <button class=\"colab-df-convert\" onclick=\"convertToInteractive('df-c299401a-3a24-4ca4-816d-503f38385e75')\"\n",
              "              title=\"Convert this dataframe to an interactive table.\"\n",
              "              style=\"display:none;\">\n",
              "        \n",
              "  <svg xmlns=\"http://www.w3.org/2000/svg\" height=\"24px\"viewBox=\"0 0 24 24\"\n",
              "       width=\"24px\">\n",
              "    <path d=\"M0 0h24v24H0V0z\" fill=\"none\"/>\n",
              "    <path d=\"M18.56 5.44l.94 2.06.94-2.06 2.06-.94-2.06-.94-.94-2.06-.94 2.06-2.06.94zm-11 1L8.5 8.5l.94-2.06 2.06-.94-2.06-.94L8.5 2.5l-.94 2.06-2.06.94zm10 10l.94 2.06.94-2.06 2.06-.94-2.06-.94-.94-2.06-.94 2.06-2.06.94z\"/><path d=\"M17.41 7.96l-1.37-1.37c-.4-.4-.92-.59-1.43-.59-.52 0-1.04.2-1.43.59L10.3 9.45l-7.72 7.72c-.78.78-.78 2.05 0 2.83L4 21.41c.39.39.9.59 1.41.59.51 0 1.02-.2 1.41-.59l7.78-7.78 2.81-2.81c.8-.78.8-2.07 0-2.86zM5.41 20L4 18.59l7.72-7.72 1.47 1.35L5.41 20z\"/>\n",
              "  </svg>\n",
              "      </button>\n",
              "      \n",
              "  <style>\n",
              "    .colab-df-container {\n",
              "      display:flex;\n",
              "      flex-wrap:wrap;\n",
              "      gap: 12px;\n",
              "    }\n",
              "\n",
              "    .colab-df-convert {\n",
              "      background-color: #E8F0FE;\n",
              "      border: none;\n",
              "      border-radius: 50%;\n",
              "      cursor: pointer;\n",
              "      display: none;\n",
              "      fill: #1967D2;\n",
              "      height: 32px;\n",
              "      padding: 0 0 0 0;\n",
              "      width: 32px;\n",
              "    }\n",
              "\n",
              "    .colab-df-convert:hover {\n",
              "      background-color: #E2EBFA;\n",
              "      box-shadow: 0px 1px 2px rgba(60, 64, 67, 0.3), 0px 1px 3px 1px rgba(60, 64, 67, 0.15);\n",
              "      fill: #174EA6;\n",
              "    }\n",
              "\n",
              "    [theme=dark] .colab-df-convert {\n",
              "      background-color: #3B4455;\n",
              "      fill: #D2E3FC;\n",
              "    }\n",
              "\n",
              "    [theme=dark] .colab-df-convert:hover {\n",
              "      background-color: #434B5C;\n",
              "      box-shadow: 0px 1px 3px 1px rgba(0, 0, 0, 0.15);\n",
              "      filter: drop-shadow(0px 1px 2px rgba(0, 0, 0, 0.3));\n",
              "      fill: #FFFFFF;\n",
              "    }\n",
              "  </style>\n",
              "\n",
              "      <script>\n",
              "        const buttonEl =\n",
              "          document.querySelector('#df-c299401a-3a24-4ca4-816d-503f38385e75 button.colab-df-convert');\n",
              "        buttonEl.style.display =\n",
              "          google.colab.kernel.accessAllowed ? 'block' : 'none';\n",
              "\n",
              "        async function convertToInteractive(key) {\n",
              "          const element = document.querySelector('#df-c299401a-3a24-4ca4-816d-503f38385e75');\n",
              "          const dataTable =\n",
              "            await google.colab.kernel.invokeFunction('convertToInteractive',\n",
              "                                                     [key], {});\n",
              "          if (!dataTable) return;\n",
              "\n",
              "          const docLinkHtml = 'Like what you see? Visit the ' +\n",
              "            '<a target=\"_blank\" href=https://colab.research.google.com/notebooks/data_table.ipynb>data table notebook</a>'\n",
              "            + ' to learn more about interactive tables.';\n",
              "          element.innerHTML = '';\n",
              "          dataTable['output_type'] = 'display_data';\n",
              "          await google.colab.output.renderOutput(dataTable, element);\n",
              "          const docLink = document.createElement('div');\n",
              "          docLink.innerHTML = docLinkHtml;\n",
              "          element.appendChild(docLink);\n",
              "        }\n",
              "      </script>\n",
              "    </div>\n",
              "  </div>\n",
              "  "
            ]
          },
          "metadata": {},
          "execution_count": 105
        }
      ]
    },
    {
      "cell_type": "markdown",
      "source": [
        "### **2-2. sample의 평균값과 모집단의 평균값을 비교해봅니다.**\n",
        "\n",
        "- `seed`는 2로 지정하세요.\n",
        "- 위에서 전처리를 완료한 데이터프레임을 모집단으로 가정한 후, `Income` column의 평균을 구해 `mean_pop` 변수에 저장하세요.\n",
        "- sample size가 5일 때, 해당 데이터셋의 `Income` 데이터를 10,000번 중복 추출한 표본 평균들을 `sample_5` 라는 이름의 array에 저장하세요.\n",
        "  - `mean_pop`에서 `sample_5`의 평균을 뺀 값을 `diff_5`에 저장하세요.\n",
        "- sample size가 200일 때, 해당 데이터셋의 `Income` 데이터를 10,000번 중복 추출한 표본 평균들을 `sample_200` 라는 이름의 array에 저장하세요.\n",
        "  - `mean_pop`에서 `sample_200`의 평균을 뺀 값을 `diff_200`에 저장하세요.\n",
        "\n",
        "\n"
      ],
      "metadata": {
        "id": "3iICO7ltZe_Y"
      }
    },
    {
      "cell_type": "markdown",
      "source": [
        "##### **Q3. `diff_5`, `diff_200`의 결과를 각각 반올림하여 소수점 둘째 자리까지 (`diff_5`, `diff_200`)의 형태로 쓰세요.**"
      ],
      "metadata": {
        "id": "1xyWbCuNBbRq"
      }
    },
    {
      "cell_type": "code",
      "source": [
        "# 이곳에 코드를 작성하세요.\n",
        "pop = data['Income']\n",
        "mean_pop = pop.mean()\n",
        "mean_pop"
      ],
      "metadata": {
        "id": "VpuDfDbWZ5oN",
        "colab": {
          "base_uri": "https://localhost:8080/"
        },
        "outputId": "a2239b04-772c-40a3-efd6-d0a9ebdb7e84"
      },
      "execution_count": 70,
      "outputs": [
        {
          "output_type": "execute_result",
          "data": {
            "text/plain": [
              "52169.24665127021"
            ]
          },
          "metadata": {},
          "execution_count": 70
        }
      ]
    },
    {
      "cell_type": "code",
      "source": [
        "import numpy as np\n",
        "np.random.seed(2)\n",
        "\n",
        "sample_5 = []\n",
        "for _ in range(10000):\n",
        "    sample_5.append(np.random.choice(pop, 5, True).mean())\n",
        "\n",
        "sample_200 = []\n",
        "for _ in range(10000):\n",
        "    sample_200.append(np.random.choice(pop, 200, True).mean())\n",
        "\n",
        "sample_5 = np.array(sample_5)\n",
        "sample_200 = np.array(sample_200)"
      ],
      "metadata": {
        "id": "DsTN4pelJsl4"
      },
      "execution_count": 115,
      "outputs": []
    },
    {
      "cell_type": "code",
      "source": [
        "diff_5 = mean_pop - sample_5.mean()\n",
        "diff_200 = mean_pop - sample_200.mean()\n",
        "round(diff_5, 2), round(diff_200, 2)"
      ],
      "metadata": {
        "colab": {
          "base_uri": "https://localhost:8080/"
        },
        "id": "0F3O7iGvOcky",
        "outputId": "e71fa7aa-3c1f-4e78-92bf-f2efd58f70ad"
      },
      "execution_count": 119,
      "outputs": [
        {
          "output_type": "execute_result",
          "data": {
            "text/plain": [
              "(103.35, 10.96)"
            ]
          },
          "metadata": {},
          "execution_count": 119
        }
      ]
    },
    {
      "cell_type": "markdown",
      "source": [
        "### **2-3. sample의 분포를 통해 신뢰구간을 확인합니다.**\n",
        "**2-2**에서 구현한 `sample_200` 표본 분포를 활용하여 모집단의 모수를 포함할 확률이 95%가 되는 구간을 찾아봅니다.\n",
        "\n"
      ],
      "metadata": {
        "id": "mlPTnYPCZosQ"
      }
    },
    {
      "cell_type": "markdown",
      "source": [
        "##### **Q4. 95% 신뢰구간의 lower limit과 upper limit을 각각 반올림하여 소수점 둘째 자리까지 (lower limit, upper limit)의 형태로 쓰세요.**"
      ],
      "metadata": {
        "id": "VvDR30q5Bvk_"
      }
    },
    {
      "cell_type": "code",
      "source": [
        "# 이곳에 코드를 작성하세요.\n",
        "lower, upper = np.percentile(sample_200, 2.5), np.percentile(sample_200, 97.5) \n",
        "round(lower, 2), round(upper, 2)"
      ],
      "metadata": {
        "id": "XK1h1u9ZZ9ch",
        "colab": {
          "base_uri": "https://localhost:8080/"
        },
        "outputId": "6a8afb14-6b0f-4ac8-8b70-29f70cf5e4dd"
      },
      "execution_count": 121,
      "outputs": [
        {
          "output_type": "execute_result",
          "data": {
            "text/plain": [
              "(48952.11, 56169.32)"
            ]
          },
          "metadata": {},
          "execution_count": 121
        }
      ]
    },
    {
      "cell_type": "markdown",
      "source": [
        "## **Part 3. Hypothesis Test**\n",
        "\n",
        "데이터에서 다양한 시나리오를 파악하고 옳은 가설을 세우는 것은 매우 중요합니다. 위에 우리에게 주어진 데이터셋에 대해서도 다양한 시나리오에 대해 생각해볼 수 있습니다.\n",
        "\n",
        "주어진 데이터셋에는 자녀가 청소년인지 여부를 나타내는 `Teenhome`과 연간 수입을 나타내는 `Income` 정보가 존재하는데, 청소년 자녀가 있는 경우 자녀의 연령에 따라 증가하는 지출, 고객의 회사 내 지위 등을 고려하여 수입이 증가할 것이라는 가설을 생각해 볼 수 있습니다. \n",
        "\n",
        "따라서 **고객의 자녀가 청소년인지 여부에 따라 연간 수입 평균값의 차이가 있는지** 가설검정을 통해 확인해보도록 하겠습니다."
      ],
      "metadata": {
        "id": "DcPtz22vU_Uw"
      }
    },
    {
      "cell_type": "markdown",
      "source": [
        "### **3-1. One-tailed Test**\n",
        "\n",
        "> 고객의 자녀가 청소년인 경우의 연간 수입 평균값이 그렇지 않은 경우보다 더 많은지 판단하고자 합니다.\n",
        "- 자녀가 청소년인 경우 고객의 연간 수입 평균값: $μ_{yes}$\n",
        "- 자녀가 청소년이 아닌 경우 고객의 연간 수입 평균값: $μ_{no}$\n",
        "\n",
        "\n",
        "\n",
        "\n",
        "\n"
      ],
      "metadata": {
        "id": "Zi8GxxoqHW78"
      }
    },
    {
      "cell_type": "markdown",
      "source": [
        "- 부트스트랩(Bootstrapping)을 활용하여 자녀가 청소년인 경우와 아닌 경우의 차이에 대한 표본분포를 simulate한 뒤, p-value를 확인하여 어떠한 가설을 채택할지 결정하세요.\n",
        "\n",
        "  - `seed`는 2로 지정합니다.\n",
        "  - simulate 횟수는 10000번으로 지정합니다.\n",
        "  - sample의 데이터 수는 위의 데이터프레임과 동일한 사이즈(row 수)로 설정합니다.\n",
        "  - (`자녀가 청소년인 샘플들의 평균값` - `자녀가 청소년이 아닌 샘플들의 평균값`)으로 차이를 구합니다."
      ],
      "metadata": {
        "id": "vuLH6E51GCVP"
      }
    },
    {
      "cell_type": "markdown",
      "source": [
        "##### **Q5. 이 경우에는 귀무가설과 대립가설을 어떻게 세워야 할까요?**\n",
        "\n",
        "a. $H_0$: $μ_{no} ≥ μ_{yes}\\;$, $\\;H_a$: $μ_{no} < μ_{yes}$\n",
        "\n",
        "b. $H_0$: $μ_{no} < μ_{yes}\\;$, $\\;H_a$: $μ_{no} ≥ μ_{yes}$\n",
        "\n",
        "c. $H_0$: $μ_{no} > μ_{yes}\\;$, $\\;H_a$: $μ_{no} ≤ μ_{yes}$\n",
        "\n",
        "d. $H_0$: $μ_{no} ≤ μ_{yes}\\;$, $\\;H_a$: $μ_{no} > μ_{yes}$\n",
        "\n",
        "</br>\n"
      ],
      "metadata": {
        "id": "aTPhPeTmCF6g"
      }
    },
    {
      "cell_type": "code",
      "source": [
        "# 이곳에 코드를 작성하세요.\n",
        "np.random.seed(2)\n",
        "\n",
        "teen_means, noteen_means, diff_means = [], [], []\n",
        "\n",
        "for _ in range(10000):\n",
        "    sample = df.sample(df.shape[0], replace=True)\n",
        "\n",
        "    teen_mean = sample[sample.Teenhome == True].Income.mean()\n",
        "    teen_means.append(teen_mean)\n",
        "\n",
        "    noteen_mean = sample[sample.Teenhome == False].Income.mean()\n",
        "    noteen_means.append(noteen_mean)\n",
        "\n",
        "    diff_means.append(teen_mean - noteen_mean)\n",
        "  "
      ],
      "metadata": {
        "id": "GTFBdugngVqK"
      },
      "execution_count": 125,
      "outputs": []
    },
    {
      "cell_type": "code",
      "source": [
        "plt.figure(figsize=(8,5))\n",
        "plt.hist(teen_means, alpha = 0.5, label='teen home')\n",
        "plt.hist(noteen_means, alpha = 0.5, label = 'no teen home')\n",
        "plt.legend(loc=2, fontsize=13)\n",
        "plt.show()"
      ],
      "metadata": {
        "colab": {
          "base_uri": "https://localhost:8080/",
          "height": 320
        },
        "id": "eRcgxvUbSuFn",
        "outputId": "0d5f3510-6d0c-4b62-ea1c-9ab3bfe95301"
      },
      "execution_count": 141,
      "outputs": [
        {
          "output_type": "display_data",
          "data": {
            "text/plain": [
              "<Figure size 576x360 with 1 Axes>"
            ],
            "image/png": "[encoded data removed]"
          },
          "metadata": {
            "needs_background": "light"
          }
        }
      ]
    },
    {
      "cell_type": "code",
      "source": [
        "plt.figure(figsize=(8,5))\n",
        "plt.hist(diff_means, alpha=0.5, label = 'Difference in Means')\n",
        "plt.axvline(0, c='r')\n",
        "plt.legend(loc=9, fontsize=13);"
      ],
      "metadata": {
        "colab": {
          "base_uri": "https://localhost:8080/",
          "height": 320
        },
        "id": "FX9nyfTOU46t",
        "outputId": "ba4ed5fb-de27-45fa-afc2-18dadb8600cd"
      },
      "execution_count": 127,
      "outputs": [
        {
          "output_type": "display_data",
          "data": {
            "text/plain": [
              "<Figure size 576x360 with 1 Axes>"
            ],
            "image/png": "[encoded data removed]"
          },
          "metadata": {
            "needs_background": "light"
          }
        }
      ]
    },
    {
      "cell_type": "code",
      "source": [
        "diff_means = np.array(diff_means)"
      ],
      "metadata": {
        "id": "0kCRrjf5coGH"
      },
      "execution_count": 149,
      "outputs": []
    },
    {
      "cell_type": "code",
      "source": [
        "(diff_means > 0.0).mean()"
      ],
      "metadata": {
        "colab": {
          "base_uri": "https://localhost:8080/"
        },
        "id": "B8ZnU9dSU8EU",
        "outputId": "367c1f5a-c082-4cac-f98e-7d692e48bb53"
      },
      "execution_count": 150,
      "outputs": [
        {
          "output_type": "execute_result",
          "data": {
            "text/plain": [
              "0.9417"
            ]
          },
          "metadata": {},
          "execution_count": 150
        }
      ]
    },
    {
      "cell_type": "markdown",
      "source": [
        "##### **Q6. 다음 중 위의 가설검정 결과로 나온 p-value를 통해 도출한 결론을 고르세요.** \n",
        "\n",
        "a. p-value가 0.05보다 작으므로 귀무가설을 기각하고 대립가설을 채택한다.\n",
        "\n",
        "b. p-value가 0.05보다 크므로 귀무가설을 기각하지 못한다.\n",
        "\n",
        "c. p-value가 0.05보다 작으므로 귀무가설을 기각하지 못한다.\n",
        "\n",
        "d. p-value가 0.05보다 크므로 귀무가설을 기각하고 대립가설을 채택한다.\n",
        "\n",
        "e. p-value가 0.05보다 크므로 귀무가설과 대립가설 모두를 채택한다."
      ],
      "metadata": {
        "id": "wxR02lXtCMjE"
      }
    },
    {
      "cell_type": "markdown",
      "source": [
        "### **3-2. Two-tailed Test**\n",
        "\n",
        "> 고객의 자녀가 청소년인 경우의 연간 수입 평균값이 그렇지 않은 경우와 차이가 있는지 판단하고자 합니다.\n",
        "- 자녀가 청소년인 경우 고객의 연간 수입 평균값: $μ_{yes}$\n",
        "- 자녀가 청소년이 아닌 경우 고객의 연간 수입 평균값: $μ_{no}$\n",
        "\n",
        "- 이번 문제에서는 scipy 라이브러리의 [`.ttest_ind()`](https://docs.scipy.org/doc/scipy/reference/generated/scipy.stats.ttest_ind.html)를 사용하여 가설검정을 진행하세요.\n",
        "\n",
        "\n",
        "\n",
        "\n"
      ],
      "metadata": {
        "id": "CXIay0_nQfqC"
      }
    },
    {
      "cell_type": "markdown",
      "source": [
        "##### **Q7. 이 경우에는 귀무가설과 대립가설을 어떻게 세워야 할까요?** \n",
        "\n",
        "a. $H_0$: $μ_{no} =\\; μ_{yes}\\;$, $\\;H_a$: $μ_{no} \\neq \\;μ_{yes}$\n",
        "\n",
        "b. $H_0$: $μ_{no} < μ_{yes}\\;$, $\\;H_a$: $μ_{no} ≥ μ_{yes}$\n",
        "\n",
        "c. $H_0$: $μ_{no} \\neq\\; μ_{yes}\\;$, $\\;H_a$: $μ_{no} = \\;μ_{yes}$\n",
        "\n",
        "d. $H_0$: $μ_{no} ≤ μ_{yes}\\;$, $\\;H_a$: $μ_{no} > μ_{yes}$\n",
        "\n",
        "</br>\n",
        "\n",
        "\n",
        "\n",
        "\n",
        "\n"
      ],
      "metadata": {
        "id": "2o_fsRGMSvPM"
      }
    },
    {
      "cell_type": "markdown",
      "source": [
        "##### **Q8. 위의 가설 검정 결과로 나온 p-value를 반올림하여 소수점 둘째 자리까지 쓰세요.**"
      ],
      "metadata": {
        "id": "lpIx4YjvCZRe"
      }
    },
    {
      "cell_type": "code",
      "source": [
        "# 이곳에 코드를 작성하세요.\n",
        "from scipy.stats import ttest_ind\n",
        "tm = pd.Series(teen_means)\n",
        "ntm = pd.Series(noteen_means)\n",
        "st, pv = ttest_ind(a=tm, b=ntm, alternative='two-sided')\n",
        "pv"
      ],
      "metadata": {
        "id": "lSpBqqYzaFGx",
        "colab": {
          "base_uri": "https://localhost:8080/"
        },
        "outputId": "39ecebd8-de28-4c5b-fcb3-6554acb49ed2"
      },
      "execution_count": 154,
      "outputs": [
        {
          "output_type": "execute_result",
          "data": {
            "text/plain": [
              "0.0"
            ]
          },
          "metadata": {},
          "execution_count": 154
        }
      ]
    },
    {
      "cell_type": "code",
      "source": [
        "tm"
      ],
      "metadata": {
        "colab": {
          "base_uri": "https://localhost:8080/"
        },
        "id": "vxzHMarieJYD",
        "outputId": "ad6cfdfa-e16f-45f5-d2cb-316ae437600a"
      },
      "execution_count": 155,
      "outputs": [
        {
          "output_type": "execute_result",
          "data": {
            "text/plain": [
              "0       52520.147705\n",
              "1       51604.425695\n",
              "2       51744.853360\n",
              "3       52493.019029\n",
              "4       52809.485119\n",
              "            ...     \n",
              "9995    52352.822402\n",
              "9996    52914.167153\n",
              "9997    51857.856151\n",
              "9998    51288.109109\n",
              "9999    53018.119388\n",
              "Length: 10000, dtype: float64"
            ]
          },
          "metadata": {},
          "execution_count": 155
        }
      ]
    },
    {
      "cell_type": "markdown",
      "source": [
        "## **Part 4. 도전 문제**\n",
        "\n",
        "위에서 요구된 사항들을 모두 정확하게 만족하였으며, 아래 내용 또한 만족하는 경우 3점을 얻을 수 있습니다. \n",
        "\n",
        "아래 요구사항은 **optional** 임을 다시 한 번 강조합니다. (필수 요구사항이 아닙니다.)\n",
        "\n",
        "---\n",
        "\n",
        "#### **$\\chi^2$ 가설 검정을 시행합니다**\n",
        "\n",
        "우리가 사용할 $\\chi^2$ - test는 어떤 경우에 사용하는 가설 검정 방법인지 알아봅시다.\n",
        "\n",
        "\n",
        "- one sample $\\chi^2$ - test (적합도 검정)\n",
        "  > **주어진 하나의 범주형 변수가 특정 예상되는 분포와 동일한 분포를 나타내는지** 에 대한 가설 검정 방법\n",
        "\n",
        "  - 귀무가설($H_0$): 주어진 변수 X의 관측분포와 특정 예상 분포가 동일하다.\n",
        "  - 대립가설($H_a$): 주어진 변수 X의 관측분포와 특정 예상 분포가 다르다.\n",
        "\n",
        "- two sample $\\chi^2$ - test (독립성 검정)\n",
        "  > **두 개의 범주형 변수가 서로 연관되어 있는지 여부**에 대한 가설 검정 방법\n",
        "\n",
        "  - 귀무가설($H_0$): 변수 X와 Y는 서로 독립이다. (연관 없음)\n",
        "  - 대립가설($H_a$): 변수 X와 Y는 서로 독립이 아니다. (연관 있음)\n",
        "\n",
        "</br>\n",
        "\n",
        "위의 가설검정 방법에 대한 설명을 참고하여 진행해봅니다.\n"
      ],
      "metadata": {
        "id": "YzB1I36NgOkw"
      }
    },
    {
      "cell_type": "markdown",
      "source": [
        "### **4-1. one sample $\\chi^2$ - test**\n",
        "\n",
        "> XYZ사는 다국적 기업으로 다양한 나라에 고객층을 확보하고 있으며, 5월을 맞아 **기혼자를 대상으로 한 이벤트를 기획**하려고 합니다. 이때, 우리는 모든 국가를 대상으로 이벤트를 진행하는 것이 효율적인지 $\\chi^2$ - test를 통해 확인해보려 합니다. 만약 국적별 기혼자의 빈도가 비슷하다면, XYZ사는 모든 국가를 대상으로 이벤트를 진행하는 것을 고려할 것이고, 그렇지 않다면, 어떤 국적의 고객이 더 많은지 파악하는 추가 분석이 필요할 것입니다.\n"
      ],
      "metadata": {
        "id": "PqOZQRk2kbkd"
      }
    },
    {
      "cell_type": "markdown",
      "source": [
        "#### **기혼자의 빈도가 모든 나라에 대해 균일한지 가설 검정을 해보세요.**\n",
        "\n",
        "---\n",
        "\n",
        "[공식문서](https://docs.scipy.org/doc/scipy/reference/generated/scipy.stats.chisquare.html)를 참고하여 아래에 명시된 가설을 검정해봅시다. ($\\alpha$ = 0.05)\n",
        "- 귀무가설($H_0$): 고객의 국적(Country)별 기혼자(Married)의 빈도가 균일하게 분포되어 있다.\n",
        "- 대립가설($H_a$): 고객의 국적(Country)별 기혼자(Married)의 빈도가 균일하게 분포되어 있지 않다.\n",
        "\n",
        "> **Hint:** categorical feature 간의 \"cross tab\"을 생성하여 탐색해 보세요 (aka [contingency tables](https://en.wikipedia.org/wiki/Contingency_table)). 그리고 $\\chi^2 test$를 적용해 보세요. [pandas.crosstab](http://pandas.pydata.org/pandas-docs/stable/reference/api/pandas.crosstab.html)을 사용하면 contingency table 을 생성할 수 있습니다."
      ],
      "metadata": {
        "id": "pHHK1iOiE1qV"
      }
    },
    {
      "cell_type": "code",
      "source": [
        "# 이곳에 코드를 작성하세요.\n",
        "import scipy.stats as stats\n",
        "\n",
        "result = pd.crosstab(df.Country, df.Marital_Status)\n",
        "result"
      ],
      "metadata": {
        "id": "1-wpWxloaHYW",
        "colab": {
          "base_uri": "https://localhost:8080/",
          "height": 332
        },
        "outputId": "e8d76072-ad47-4764-9b21-8b80ad6e1522"
      },
      "execution_count": 156,
      "outputs": [
        {
          "output_type": "execute_result",
          "data": {
            "text/plain": [
              "Marital_Status  Absurd  Alone  Divorced  Married  Single  Together  Widow  \\\n",
              "Country                                                                     \n",
              "AUS                  1      0        18       65      17        37      5   \n",
              "CA                   1      3        26       97      57        64      6   \n",
              "GER                  0      0         6       56      18        31      4   \n",
              "IND                  0      0        10       55      36        38      4   \n",
              "ME                   0      0         0        0       2         1      0   \n",
              "SA                   0      0        45      104      70        97     12   \n",
              "SP                   0      0       104      422     233       265     42   \n",
              "US                   0      0        16       33      29        23      2   \n",
              "\n",
              "Marital_Status  YOLO  \n",
              "Country               \n",
              "AUS                0  \n",
              "CA                 1  \n",
              "GER                0  \n",
              "IND                1  \n",
              "ME                 0  \n",
              "SA                 0  \n",
              "SP                 0  \n",
              "US                 0  "
            ],
            "text/html": [
              "\n",
              "  <div id=\"df-50d6989c-1465-41c8-8e5d-ce346b3a940f\">\n",
              "    <div class=\"colab-df-container\">\n",
              "      <div>\n",
              "<style scoped>\n",
              "    .dataframe tbody tr th:only-of-type {\n",
              "        vertical-align: middle;\n",
              "    }\n",
              "\n",
              "    .dataframe tbody tr th {\n",
              "        vertical-align: top;\n",
              "    }\n",
              "\n",
              "    .dataframe thead th {\n",
              "        text-align: right;\n",
              "    }\n",
              "</style>\n",
              "<table border=\"1\" class=\"dataframe\">\n",
              "  <thead>\n",
              "    <tr style=\"text-align: right;\">\n",
              "      <th>Marital_Status</th>\n",
              "      <th>Absurd</th>\n",
              "      <th>Alone</th>\n",
              "      <th>Divorced</th>\n",
              "      <th>Married</th>\n",
              "      <th>Single</th>\n",
              "      <th>Together</th>\n",
              "      <th>Widow</th>\n",
              "      <th>YOLO</th>\n",
              "    </tr>\n",
              "    <tr>\n",
              "      <th>Country</th>\n",
              "      <th></th>\n",
              "      <th></th>\n",
              "      <th></th>\n",
              "      <th></th>\n",
              "      <th></th>\n",
              "      <th></th>\n",
              "      <th></th>\n",
              "      <th></th>\n",
              "    </tr>\n",
              "  </thead>\n",
              "  <tbody>\n",
              "    <tr>\n",
              "      <th>AUS</th>\n",
              "      <td>1</td>\n",
              "      <td>0</td>\n",
              "      <td>18</td>\n",
              "      <td>65</td>\n",
              "      <td>17</td>\n",
              "      <td>37</td>\n",
              "      <td>5</td>\n",
              "      <td>0</td>\n",
              "    </tr>\n",
              "    <tr>\n",
              "      <th>CA</th>\n",
              "      <td>1</td>\n",
              "      <td>3</td>\n",
              "      <td>26</td>\n",
              "      <td>97</td>\n",
              "      <td>57</td>\n",
              "      <td>64</td>\n",
              "      <td>6</td>\n",
              "      <td>1</td>\n",
              "    </tr>\n",
              "    <tr>\n",
              "      <th>GER</th>\n",
              "      <td>0</td>\n",
              "      <td>0</td>\n",
              "      <td>6</td>\n",
              "      <td>56</td>\n",
              "      <td>18</td>\n",
              "      <td>31</td>\n",
              "      <td>4</td>\n",
              "      <td>0</td>\n",
              "    </tr>\n",
              "    <tr>\n",
              "      <th>IND</th>\n",
              "      <td>0</td>\n",
              "      <td>0</td>\n",
              "      <td>10</td>\n",
              "      <td>55</td>\n",
              "      <td>36</td>\n",
              "      <td>38</td>\n",
              "      <td>4</td>\n",
              "      <td>1</td>\n",
              "    </tr>\n",
              "    <tr>\n",
              "      <th>ME</th>\n",
              "      <td>0</td>\n",
              "      <td>0</td>\n",
              "      <td>0</td>\n",
              "      <td>0</td>\n",
              "      <td>2</td>\n",
              "      <td>1</td>\n",
              "      <td>0</td>\n",
              "      <td>0</td>\n",
              "    </tr>\n",
              "    <tr>\n",
              "      <th>SA</th>\n",
              "      <td>0</td>\n",
              "      <td>0</td>\n",
              "      <td>45</td>\n",
              "      <td>104</td>\n",
              "      <td>70</td>\n",
              "      <td>97</td>\n",
              "      <td>12</td>\n",
              "      <td>0</td>\n",
              "    </tr>\n",
              "    <tr>\n",
              "      <th>SP</th>\n",
              "      <td>0</td>\n",
              "      <td>0</td>\n",
              "      <td>104</td>\n",
              "      <td>422</td>\n",
              "      <td>233</td>\n",
              "      <td>265</td>\n",
              "      <td>42</td>\n",
              "      <td>0</td>\n",
              "    </tr>\n",
              "    <tr>\n",
              "      <th>US</th>\n",
              "      <td>0</td>\n",
              "      <td>0</td>\n",
              "      <td>16</td>\n",
              "      <td>33</td>\n",
              "      <td>29</td>\n",
              "      <td>23</td>\n",
              "      <td>2</td>\n",
              "      <td>0</td>\n",
              "    </tr>\n",
              "  </tbody>\n",
              "</table>\n",
              "</div>\n",
              "      <button class=\"colab-df-convert\" onclick=\"convertToInteractive('df-50d6989c-1465-41c8-8e5d-ce346b3a940f')\"\n",
              "              title=\"Convert this dataframe to an interactive table.\"\n",
              "              style=\"display:none;\">\n",
              "        \n",
              "  <svg xmlns=\"http://www.w3.org/2000/svg\" height=\"24px\"viewBox=\"0 0 24 24\"\n",
              "       width=\"24px\">\n",
              "    <path d=\"M0 0h24v24H0V0z\" fill=\"none\"/>\n",
              "    <path d=\"M18.56 5.44l.94 2.06.94-2.06 2.06-.94-2.06-.94-.94-2.06-.94 2.06-2.06.94zm-11 1L8.5 8.5l.94-2.06 2.06-.94-2.06-.94L8.5 2.5l-.94 2.06-2.06.94zm10 10l.94 2.06.94-2.06 2.06-.94-2.06-.94-.94-2.06-.94 2.06-2.06.94z\"/><path d=\"M17.41 7.96l-1.37-1.37c-.4-.4-.92-.59-1.43-.59-.52 0-1.04.2-1.43.59L10.3 9.45l-7.72 7.72c-.78.78-.78 2.05 0 2.83L4 21.41c.39.39.9.59 1.41.59.51 0 1.02-.2 1.41-.59l7.78-7.78 2.81-2.81c.8-.78.8-2.07 0-2.86zM5.41 20L4 18.59l7.72-7.72 1.47 1.35L5.41 20z\"/>\n",
              "  </svg>\n",
              "      </button>\n",
              "      \n",
              "  <style>\n",
              "    .colab-df-container {\n",
              "      display:flex;\n",
              "      flex-wrap:wrap;\n",
              "      gap: 12px;\n",
              "    }\n",
              "\n",
              "    .colab-df-convert {\n",
              "      background-color: #E8F0FE;\n",
              "      border: none;\n",
              "      border-radius: 50%;\n",
              "      cursor: pointer;\n",
              "      display: none;\n",
              "      fill: #1967D2;\n",
              "      height: 32px;\n",
              "      padding: 0 0 0 0;\n",
              "      width: 32px;\n",
              "    }\n",
              "\n",
              "    .colab-df-convert:hover {\n",
              "      background-color: #E2EBFA;\n",
              "      box-shadow: 0px 1px 2px rgba(60, 64, 67, 0.3), 0px 1px 3px 1px rgba(60, 64, 67, 0.15);\n",
              "      fill: #174EA6;\n",
              "    }\n",
              "\n",
              "    [theme=dark] .colab-df-convert {\n",
              "      background-color: #3B4455;\n",
              "      fill: #D2E3FC;\n",
              "    }\n",
              "\n",
              "    [theme=dark] .colab-df-convert:hover {\n",
              "      background-color: #434B5C;\n",
              "      box-shadow: 0px 1px 3px 1px rgba(0, 0, 0, 0.15);\n",
              "      filter: drop-shadow(0px 1px 2px rgba(0, 0, 0, 0.3));\n",
              "      fill: #FFFFFF;\n",
              "    }\n",
              "  </style>\n",
              "\n",
              "      <script>\n",
              "        const buttonEl =\n",
              "          document.querySelector('#df-50d6989c-1465-41c8-8e5d-ce346b3a940f button.colab-df-convert');\n",
              "        buttonEl.style.display =\n",
              "          google.colab.kernel.accessAllowed ? 'block' : 'none';\n",
              "\n",
              "        async function convertToInteractive(key) {\n",
              "          const element = document.querySelector('#df-50d6989c-1465-41c8-8e5d-ce346b3a940f');\n",
              "          const dataTable =\n",
              "            await google.colab.kernel.invokeFunction('convertToInteractive',\n",
              "                                                     [key], {});\n",
              "          if (!dataTable) return;\n",
              "\n",
              "          const docLinkHtml = 'Like what you see? Visit the ' +\n",
              "            '<a target=\"_blank\" href=https://colab.research.google.com/notebooks/data_table.ipynb>data table notebook</a>'\n",
              "            + ' to learn more about interactive tables.';\n",
              "          element.innerHTML = '';\n",
              "          dataTable['output_type'] = 'display_data';\n",
              "          await google.colab.output.renderOutput(dataTable, element);\n",
              "          const docLink = document.createElement('div');\n",
              "          docLink.innerHTML = docLinkHtml;\n",
              "          element.appendChild(docLink);\n",
              "        }\n",
              "      </script>\n",
              "    </div>\n",
              "  </div>\n",
              "  "
            ]
          },
          "metadata": {},
          "execution_count": 156
        }
      ]
    },
    {
      "cell_type": "code",
      "source": [
        "stats.chi2_contingency(observed=result)"
      ],
      "metadata": {
        "colab": {
          "base_uri": "https://localhost:8080/"
        },
        "id": "LnGMhmzHfC9a",
        "outputId": "72acbd81-746e-4e3b-fbcc-c27185d1594e"
      },
      "execution_count": 157,
      "outputs": [
        {
          "output_type": "execute_result",
          "data": {
            "text/plain": [
              "(84.80268270533253,\n",
              " 0.0011379605185146706,\n",
              " 49,\n",
              " array([[1.32591562e-01, 1.98887344e-01, 1.49165508e+01, 5.51580899e+01,\n",
              "         3.06286509e+01, 3.68604543e+01, 4.97218359e+00, 1.32591562e-01],\n",
              "        [2.36439499e-01, 3.54659249e-01, 2.65994437e+01, 9.83588317e+01,\n",
              "         5.46175243e+01, 6.57301808e+01, 8.86648122e+00, 2.36439499e-01],\n",
              "        [1.06629578e-01, 1.59944367e-01, 1.19958275e+01, 4.43579045e+01,\n",
              "         2.46314325e+01, 2.96430227e+01, 3.99860918e+00, 1.06629578e-01],\n",
              "        [1.33518776e-01, 2.00278164e-01, 1.50208623e+01, 5.55438108e+01,\n",
              "         3.08428373e+01, 3.71182197e+01, 5.00695410e+00, 1.33518776e-01],\n",
              "        [2.78164117e-03, 4.17246175e-03, 3.12934631e-01, 1.15716273e+00,\n",
              "         6.42559110e-01, 7.73296245e-01, 1.04311544e-01, 2.78164117e-03],\n",
              "        [3.04126101e-01, 4.56189152e-01, 3.42141864e+01, 1.26516458e+02,\n",
              "         7.02531293e+01, 8.45470561e+01, 1.14047288e+01, 3.04126101e-01],\n",
              "        [9.88409828e-01, 1.48261474e+00, 1.11196106e+02, 4.11178489e+02,\n",
              "         2.28322670e+02, 2.74777932e+02, 3.70653686e+01, 9.88409828e-01],\n",
              "        [9.55030134e-02, 1.43254520e-01, 1.07440890e+01, 3.97292536e+01,\n",
              "         2.20611961e+01, 2.65498377e+01, 3.58136300e+00, 9.55030134e-02]]))"
            ]
          },
          "metadata": {},
          "execution_count": 157
        }
      ]
    },
    {
      "cell_type": "markdown",
      "source": [
        "### **4-2. P-value 해석**\n",
        "\n"
      ],
      "metadata": {
        "id": "JGov3kLCobnX"
      }
    },
    {
      "cell_type": "markdown",
      "source": [
        "#### **가설검정 결과로 나온 p-value를 바탕으로 결론을 제시하세요.**"
      ],
      "metadata": {
        "id": "Em0Pj-5PCxeH"
      }
    },
    {
      "cell_type": "markdown",
      "source": [
        "```## 이곳에 답을 작성하세요. ##\n",
        "p-value가 0.001로 유의수준 0.05보다 작다.\n",
        "따라서 국적 별 기혼자 분포가 균일하다는 귀무가설은 기각되어, 국적 별로 기혼자 분포에 유의미한 관련성이 있는 것으로 판단된다.\n",
        "```"
      ],
      "metadata": {
        "id": "f69bC4aUaNuC"
      }
    }
  ]
}